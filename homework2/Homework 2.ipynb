{
 "cells": [
  {
   "cell_type": "markdown",
   "metadata": {},
   "source": [
    "# Exercise 1"
   ]
  },
  {
   "cell_type": "code",
   "execution_count": 3,
   "metadata": {
    "collapsed": true
   },
   "outputs": [],
   "source": [
    "X=[19255934095787720748455938531615231925775554021405330313064626230369592190578345352228110277742563557191878637595901869285598695758176, 32392708844394701452036916460713713595825115921665054949323936483657751316662239575569543259635266223388384164302871616257386922166593, 32222667684960658459136635762659077859022626179757702104050867377232605729147873028545454270308218090182830753704455505531009162286056, 32981361400155031172855382636818024302181339433884482612842567184793215932707902142381029726822011739443828583848799565571853859037930, 6876363122361388634438595443955805767194040716788590098341232198872052189615823474494816362076514966047633044868100330475007382530417, 33456673782129383867005673680652554945872492554287742193417959716846659875801307227022697350257713164004923058074060951209395175948589, 33980721279661319736572604873128662779377176365301849793703554886294547094476433768905984293627711567398952871766298315578946940279844, 11666671193344829017535440679211211651091082327411856844736900273605248756722442217487176298980586773190453422632056287396279724905537, 28441893293937732254491385306768379737552458532371040229473580243703277218836546873493574847423031698498391573611001857717226703754298]\n",
    "p=34075147745310921122550601740103708338583190008115062048090044686140161301336585388795878993204979478320320500415591356571442190792839\n",
    "p11=1109390406631158035880137289695510584716850447\n",
    "p12=24611771993052165964009959989538390707121361\n",
    "p13=623994070455583804368533053765491862974018557"
   ]
  },
  {
   "cell_type": "code",
   "execution_count": 4,
   "metadata": {
    "collapsed": false
   },
   "outputs": [
    {
     "data": {
      "text/plain": [
       "[11666671193344829017535440679211211651091082327411856844736900273605248756722442217487176298980586773190453422632056287396279724905537,\n",
       " 19255934095787720748455938531615231925775554021405330313064626230369592190578345352228110277742563557191878637595901869285598695758176]"
      ]
     },
     "execution_count": 4,
     "metadata": {},
     "output_type": "execute_result"
    }
   ],
   "source": [
    "primes = [2, p11, p12, p13]\n",
    "ans = []\n",
    "flag = 0\n",
    "for x in X:\n",
    "    flag = 0\n",
    "    for pr in primes:\n",
    "        if( pow( x, (p-1)/pr, p ) == 1 ):\n",
    "            flag = 1\n",
    "    if( flag == 0 ):\n",
    "        ans.append(x)\n",
    "ans.sort()\n",
    "ans"
   ]
  },
  {
   "cell_type": "markdown",
   "metadata": {},
   "source": [
    "# Exercise 2"
   ]
  },
  {
   "cell_type": "code",
   "execution_count": 5,
   "metadata": {
    "collapsed": true
   },
   "outputs": [],
   "source": [
    "def strToInt(str):\n",
    "    res = []\n",
    "    for i in str:\n",
    "        if( ord(i) >= ord('a') and ord(i) <= ord('z') ):\n",
    "            res.append( ord(i) - ord('a') )\n",
    "        elif( ord(i) == ord(' ')):\n",
    "            res.append( 26 )\n",
    "        elif( ord(i) == ord('.')):\n",
    "            res.append( 27 )\n",
    "    return res\n",
    "    \n",
    "    \n",
    "    \n",
    "def intToStr(arr):\n",
    "    res = []\n",
    "    for i in arr:\n",
    "        if( i >= 0 and i <= 25 ):\n",
    "            res.append( chr( i + ord('a') ) )\n",
    "        elif( i == 26):\n",
    "            res.append( ' ' )\n",
    "        elif( i == 27):\n",
    "            res.append( '.' )\n",
    "    return ''.join(res)"
   ]
  },
  {
   "cell_type": "code",
   "execution_count": 6,
   "metadata": {
    "collapsed": false
   },
   "outputs": [
    {
     "name": "stdout",
     "output_type": "stream",
     "text": [
      "[19, 4, 13, 3, 4, 17, 7, 4, 0, 17, 19, 4, 3, 26, 22, 8, 11, 11, 26, 1, 4, 26, 19, 7, 4, 26, 4, 13, 2, 14, 3, 4, 3, 26, 22, 14, 17, 3, 26, 14, 5, 26, 19, 14, 3, 0, 24, 27]\n"
     ]
    }
   ],
   "source": [
    "word2='tenderhearted will be the encoded word of today.'\n",
    "encoded2=[0, 1, 17, 0, 2, 0, 3, 0, 1, 17, 0, 26, 0, 13, 3, 26, 19, 7, 4, 26, 18, 4, 2, 17, 4, 19, 26, 22, 14, 17, 3, 26, 8, 18, 26, 14, 5, 5, 8, 2, 4, 18, 27]\n",
    "\n",
    "#print intToStr( encoded2 )\n",
    "print strToInt( word2 )"
   ]
  },
  {
   "cell_type": "markdown",
   "metadata": {},
   "source": [
    "# Exercise 3"
   ]
  },
  {
   "cell_type": "code",
   "execution_count": 7,
   "metadata": {
    "collapsed": true
   },
   "outputs": [],
   "source": [
    "u3 = 1205866437235930950578714972900131865507982022906535204888204218225737677987365369933185905903402916468729697996526544066685649754514371227022652267385728\n",
    "v3 = 3682875425006814170498664877428645756386343146237215378677854404056816190168302010497529828845726216246220681950784282266607364241475878377015266132409973\n",
    "y3 = 4048227011311270044251501000940746594770019166254992192245340458137163444422829703168175158952191557036363627751155953712230640566276240262600843150644457\n",
    "x3 = 1191825956655581389502249610518982436777376414290912413854771874045156192459815574435503655845344912737831992134019003691055706373290464869372278647343064\n",
    "g3 =1364705167264185461598801388629287047222364962515777179843456373136204506116517075188203391011588649868010729322728918173390568868215846262735191214750087\n",
    "n3 =4536498184065638062059164457528219007746233900571016644022716169181749847834012688566864867996489900688159312481349734954554810468863063278436792276801722"
   ]
  },
  {
   "cell_type": "code",
   "execution_count": 8,
   "metadata": {
    "collapsed": true
   },
   "outputs": [],
   "source": [
    "b = inverse_mod( power_mod( u3, x3, n3+1 ), n3+1 )\n",
    "m3 = (v3*b) % (n3 + 1) \n",
    "\n",
    "m3 = str(m3)\n",
    "m3 = m3[1:]"
   ]
  },
  {
   "cell_type": "code",
   "execution_count": 9,
   "metadata": {
    "collapsed": false
   },
   "outputs": [
    {
     "data": {
      "text/plain": [
       "'What can you say about swooping?'"
      ]
     },
     "execution_count": 9,
     "metadata": {},
     "output_type": "execute_result"
    }
   ],
   "source": [
    "arr = []\n",
    "t = 0\n",
    "for i in range( len(m3)//3 ):\n",
    "    arr.append( chr( int( m3[3*t:3*(t+1)] ) ) )\n",
    "    t = t+1\n",
    "    \n",
    "''.join(arr)"
   ]
  },
  {
   "cell_type": "markdown",
   "metadata": {},
   "source": [
    "# Exercise 4"
   ]
  },
  {
   "cell_type": "code",
   "execution_count": 10,
   "metadata": {
    "collapsed": true
   },
   "outputs": [],
   "source": [
    "y4= [ 23, 8, 19, 9, 15, 23, 10, 27, 9, 1, 26, 27, 19, 23, 17, 23, 22, 2, 12, 14, 9, 18, 3, 19, 9, 5, 13, 13, 11, 12, 27, 18, 7, 15, 16, 5, 26, 1, 17, 4, 2, 17, 8, 18, 24, 15, 11, 19, 21, 8, 25, 25, 7, 10, 25, 7, 23, 22, 23, 14, 26, 27, 23, 6, 12, 2, 4, 8, 21, 20, 19, 8, 13, 2, 1, 10, 24, 19, 20, 4, 2, 23, 7, 9, 26, 2, 18, 1, 8, 27, 9, 25, 17, 11, 5, 3, 22, 1, 15, 10, 3, 2, 15, 13, 4, 19, 17, 19, 14 ]\n",
    "p4= [ [ 16, 2, 19, 13, 7, 8, 14, 11, 26, 15, 18, 17, 0, 4, 5, 1, 10, 27, 6, 3, 12, 20, 22, 23, 25, 21, 9, 24 ],\n",
    "[ 6, 14, 3, 19, 24, 9, 0, 2, 12, 27, 7, 22, 26, 25, 11, 16, 13, 18, 1, 15, 20, 5, 21, 8, 23, 10, 17, 4 ],\n",
    "[ 24, 25, 3, 6, 22, 21, 9, 5, 14, 1, 19, 20, 13, 4, 23, 16, 15, 8, 0, 10, 2, 12, 11, 7, 17, 27, 26, 18 ],\n",
    "[ 8, 4, 2, 16, 9, 12, 27, 3, 0, 11, 13, 5, 18, 15, 26, 10, 6, 24, 19, 25, 23, 14, 22, 1, 7, 21, 20, 17 ] ]\n",
    "c4= 17778\n",
    "pi4= [ 3, 2, 1, 0, 22, 7, 20, 5, 16, 26, 14, 18, 23, 27, 10, 17, 8, 15, 11, 24, 6, 25, 4, 12, 19, 21, 9, 13 ]\n",
    "rot = [i for i in range(1,28)]\n",
    "rot.append(0)"
   ]
  },
  {
   "cell_type": "code",
   "execution_count": 11,
   "metadata": {
    "collapsed": false
   },
   "outputs": [],
   "source": [
    "import copy\n",
    "from itertools import permutations\n",
    "\n",
    "def applyP(arr, perm):\n",
    "    co = arr[:]\n",
    "    for p, e in zip(perm, arr):\n",
    "        co[p] = e\n",
    "    return co\n",
    "        \n",
    "def inv_perm( P ):\n",
    "    inv = P[:]\n",
    "    for i in range(len(P)):\n",
    "        inv[P[i]] = i \n",
    "    return inv       \n",
    "    \n",
    "def applyIP(arr, perm):\n",
    "    co = arr[:]\n",
    "    inv = inv_perm( perm )\n",
    "    return applyP( co, inv )\n",
    "    \n",
    "def P_l(P, l):\n",
    "    co = [ i for i in range(28) ]\n",
    "    for i in range(l):\n",
    "        co = applyIP(co, rot)\n",
    "    co = applyP( co, P )\n",
    "    for i in range(l):\n",
    "        co = applyP( co, rot )    \n",
    "    return inv_perm( co )\n",
    "\n",
    "    \n",
    "a1 = [1, 2, 3, 4, 5, 6]"
   ]
  },
  {
   "cell_type": "code",
   "execution_count": 12,
   "metadata": {
    "collapsed": false
   },
   "outputs": [],
   "source": [
    "j = 1\n",
    "s = 0\n",
    "x4 = []\n",
    "for a in a1:\n",
    "    a = c4 + a\n",
    "    for p in permutations( p4, 3 ):\n",
    "        (al, be, ga) = p\n",
    "        j = 1\n",
    "        x4.append([])\n",
    "        for y in y4:\n",
    "            i = a + j\n",
    "            i1 = i%28\n",
    "            i2 = (i//28)%28\n",
    "            i3 = (i//(28*28))%28\n",
    "            r1 = P_l( al, i1 )[y]\n",
    "            r2 = P_l( be, i2 )[r1]\n",
    "            r3 = P_l( ga, i3 )[r2]\n",
    "            r4 = inv_perm(pi4)[r3]\n",
    "            r5 = inv_perm( P_l( ga, i3 ) )[r4]\n",
    "            r6 = inv_perm ( P_l( be, i2 ) )[r5]\n",
    "            x = inv_perm( P_l( al, i1 ) )[r6]               \n",
    "            x4[s].append(x)\n",
    "            j = j+1\n",
    "        s = s+1"
   ]
  },
  {
   "cell_type": "code",
   "execution_count": 13,
   "metadata": {
    "collapsed": false
   },
   "outputs": [
    {
     "name": "stdout",
     "output_type": "stream",
     "text": [
      " avkdnfshlswivgymyw.fuj urkgvfvcerpjvsqsl .dpgs .j.g tmooinpuirkb dnczacdm daacyldgpqjwkbnowmudyjohjcbwcanlsw\n",
      "\n",
      "nqxkdcmidlbwfjlbpyk.dusfuby kbhcktwspifv mwrhqe wd.wzpb.dikurtefesobunugomcrckqipdwnzdhhrldxmuaycoqlmka..ryas\n",
      "\n",
      "hzfprpvqq ahb yivtxrvznugdql dhfstwsewbnr.go.tedmaslujqauhqprrdklyzxjyltdzdtxmcnkj pbktllhowtxwrifzz eocbvop.\n",
      "\n",
      "icwqyb ktnizsccglgvhe bwemgd.inpzlnuwluiyktfmkqsuctfglornooinyplvwndlmodvrw uipurwroepxfwc eewnfxgsooglrf nkk\n",
      "\n",
      "rdvgcnpjtwlmvvmfvqtskpvgb woj.dylwxqpcm uqumhicntqywdyitiefwgwurozvlf.bqanhsmen.oueegbk.yqb uadhjikxza vbnupw\n",
      "\n",
      "ecpezowohszohcocxvvcacgx nlgkbiekmihkukj xllxcpc yai.hdxkqlkzvtzk trdqfs ug.pfylwrmwktpwmmhsouysblrvbnkfqdcrf\n",
      "\n",
      "zahkhvxaryzoezmabiznhbhjur epir.nvuxvdfzffcmjmgknbs.laas faflbddlkhsb ucyrettertqjvlvym d vbli ab zrl hcwohbi\n",
      "\n",
      "zr.rrexbkhyopwxdvsryhpmpfctekjpljqexiqic djnjioaapmrowgg gj.pzhdrlggbpxuvnwwqjrwaqenb.rndpibjhd lwzuexhbqczpm\n",
      "\n",
      "b. wspegpvcjqvxtduxl.ghsurxxrcbqsxdgqfoslxrasndfmcfwithmtgdmqqrrqqfgtjkncaewljomx zneymulz wc vzlvgjxffoanoad\n",
      "\n",
      "tpaiho.facz knkujz mnyfmqualxsrxxvbezdfrtbeijtiu ooyllazj. cggix.ujwhwdtssdajrgfmzdcnlczjquc zphmoxeaiovbke.s\n",
      "\n",
      "mh pdmotxuqzlvcea puwqlflhpdivwocdslqnsyexuxxouzcctkxqyibkzwfjk. shzdp ceulyqwphylsrozngnoaq rnjbqmenvg zrhx \n",
      "\n",
      "bphi jad wxiqzqgbuzfayb.ckxuauommbiybj.tztzzukcm.nnhscunsyovki pgxmowonyltcimbhgdv yuaeepbspewtpqewzvqnksquyt\n",
      "\n",
      "kfgphirbkjohwglmdbszxepaqoaruprewuishrkbz avbnkhigxhlcgntgevy dlip.ldcojp owexzxxaqdbbtgju.vnpaaotf.mobgnekjm\n",
      "\n",
      "ysf.cwlepvnk qmjguhkpdty  fua iycv. wuqdat..ujbje taqfq.nfvwzyjrkaqzgankgjfqdloytm tvxxmvnrxefxva.y ansxchnzv\n",
      "\n",
      "r.nlwy.kdoprchhmeusasat.aeavuseqryblaksnuqltbmk olwt ohzrhmjivwfxqxdktsxhseibi sfnanvxxovtrbmfxampzofpssmedzn\n",
      "\n",
      "zzlazhwa frbeelknldcbenszgitgolzo.mpvv imjxo gowsspwoayy.f wnds.blc gr.bmdy r l gmtqs yhextcusmobzsltaequyylp\n",
      "\n",
      "dehcdjnistbmvnicbdcpcgjvm.zagfehqdslzfvcdwvenbtntswkrorgtqfjzy bxvdltgopgyoohoasknkznditwmw.fctn.mqwhdxjw.wvg\n",
      "\n",
      "rgq.cfebnnaazbmourgjndbynaww tmzmxndtyfqwdpxkhyrgfcywz qyxmrdswhaqxvchqltsljbkpjmgbaaplspiktltpitkgiinc.lkxcq\n",
      "\n",
      "vsqpzqiaimmjb kmorensvvjavzkgwgvswav.epzovtvfrqmpsjqsp ptmpdycumidibcoycf.afdqdvuptouidcrjattwdcfvaduug.lhiau\n",
      "\n",
      "tl.aoyag urzpabzviwrrc sn dbeszycbepozgdvudpeujwaxpemwo.ffyyvlrlqujoowhgpehcsbrzigwbjeqqehyocsz .msvknuqillmg\n",
      "\n",
      "vvodilmimwogjjf.pnyp vt mncaxqhzszblitxnxddrzstkmkphaum guoenws.aqftujjuxlmoquag.nxqt zrrqmsta.tmvlzfnv.qhsqp\n",
      "\n",
      "lfvsw lxhebsaguwsoosfkshukujufjiom  zvvk.zpldlwbpq.gqylkahnrtpuxd ibjhwml.dwxax acqvmyliftsezmxwsdcfvtostgtkc\n",
      "\n",
      "yombozekwfezfpsydxvhzgmddrbyykmnpeazuh b ywhhy.pku tybrffzniycye.rzpdhygmyiwsqvigzrbzq.oubzti ckfu qumdjrupng\n",
      "\n",
      "npraby guvzjltbi eskarlsccsovpcpzsbnwttxydtaqztejzrltjtxp.bxfns.dqftubihllm.esmz.cqqyflzfxeuzzv.vdksetjscgbqj\n",
      "\n",
      "gqubsbwdadrwqqtemolqdxjigwgrnlzifqgphywkayywwukkdkgrzibsob.ntlixzij kbafpq.odmptfzgxymdioaefcxntqmhnvtaovjdbv\n",
      "\n",
      "uyomwhzs. nrhtgszsxqedj.hx regwemxudakyziyywadhfkkwhjhcsvnedshdhluzpktsgsbjudbajh pxuofabae xwztqmbp kzcxjfpx\n",
      "\n",
      "rmq x frvguhpbkqk.ezug erplwtcihmkdturvzohahlg fuolqgoqnijnxuhixrgj p.irqg.uglwd idhzedgfgqaqmabakc.pjlsnfcb \n",
      "\n",
      "zemvcz.cypecu  von sxcuxacdtxpn zawcmxf .n.fc wwhwf.nfwvurbmgjebgdcerfydxsfjreeoykefinkhldaxvcdlzirlmfuvdaysu\n",
      "\n",
      "jlne.bvdyrjkbqtuoulpdhfzatoxebrfrbfllgxjxoxmtwqvy.wxsuoozeflnrtz.yrzgi.jciplkgb drmyjdmlwqsaqunpcvqmfymzonakm\n",
      "\n",
      "tjgvgnuauaezyhvwpfguxvksmzgoqrbc .ymr.opw mjmlglopiukvecmmchwqqooomgdlqsieafvigvabnoxgzqsaeddjyjqqithuy  btqz\n",
      "\n",
      "bnamqkwzmnbopvsfrofygnenpyeagesk iyhvonokkunwup wn.eojxo.rrqckluha.whtggzsyoqpysdbbkeommohkpwv.ithszuwe.ib cf\n",
      "\n",
      " nowyksyokjdfrvzzafiikgubqeriktxruuglfaxjquzbuq ysrycjionpaqxkfzpakeb ggcdtbpkssnbbcaotuwpxhw apbxsvuidsge.rt\n",
      "\n",
      "gyvwxrcthhrufrchbtyiynxqskxhrthhkyajhc.k i ydimxokwgyoanjqdbxbutabpll.yzzqobqgg.nysiaytqnphgxuvsouizpifui .hf\n",
      "\n",
      "khufrawzsq.jgn.bruoehkgvpclvxgdgdjxh.gepqas rueftyy zbhltivtthgresuaymicbkziemh tqvmgswkyfglthnnsfftvuhfmohnl\n",
      "\n",
      "zrruuvzpghwvmqgruwvfwzjmnoddut qtc.awpcc.f vmybgjeksmteevfiamalfwlkygzxardq.an.n.nfnqbmjcummldcaihatskccxvodg\n",
      "\n",
      "ypamrzyrmzoopvosmo yqibzwyuebqurms nclugxdcrfbwnpthpuhdwqvwxlwrmvyb.qooe bmrryorfatptaycaksacmmlh.yxwx abywou\n",
      "\n",
      "regwmutrbmfuvstymprvzqjbwirtkgankarohvvwhbojro nbghon.sisuzb.wkdkhwyzkqxpzgjawwszanggqw pj udvh.vtvo thet hgu\n",
      "\n",
      "lnyzghfdwchal.fl.sfyrmrxtnudpaivdvhqjsxnbfqnqgzloqajgajcnjvkhusaexdptl.awghfcxipkq.nyvpsxmtczdl  loexyz .pv f\n",
      "\n",
      "quebcu.tmzzpoy.lynw.blwf xvekzazmsjcnvvgnby fcshmatirphbfihvdvbtfwuaamatlpxukfju vvorvwropstu.pr azuxrmft.kr \n",
      "\n",
      "kcf .atggmlsaizjzbbtohxeattzsegwagomphjhyalovi.wwwwcw oqmsykcpmkjedfolg vqilrvc qu.bcadthgojmxqxr.uswkcmvkeyh\n",
      "\n",
      "maatbz mi pjhvdqumk azbdxaamshgy.xnlshj eazwdbevrjkvtqkkfzsvwqptewuulmlwlkgoumvspj .vwae unajhrbdvhwcjhx vhjx\n",
      "\n",
      "llghgmprucexsetrgxccbajmpkwoc.rctbmpmz.hahdootksz.yd xuwwduizfybvm.hxhyftnnapfg.wflkxgbq.ekkgb anyytlpesrpvbe\n",
      "\n",
      "mhqegtnpdobzu sgijryqueygbkqdd hkbbxvgixscw .bydmwqqvtwudiujxaunhlxrroqotpaxl.rqkmfrhpg ofb.hjil.f lkvhxw i p\n",
      "\n",
      "uwyiaszarpleg.j.rqyzlbcheebbqeox.cscrjczl.afnhrczyepgpf ldwfhzauaqdenkkjxyth zswzck sthqarhlz .td wdpfjpuhkkb\n",
      "\n",
      ".hsrzraeqyq ongyiriydujuzbarxyoh ze.hocinc.v.vup whsgv..kjikgvow xfdedat.rrzhxomthbqcvghuy.lgguyd izsaqklannj\n",
      "\n",
      "bjblucjfu kgsavquugledq.wwjkklkly.crcidy.lqoziqkhogtbgb ccmpezgeeur.wbbag.ankkaxxprtv oakloremb roxnfkxjrrjjx\n",
      "\n",
      "ynymtf.tral kcj.bhnxfetnucyuz.lbntuzxcjjjxoepgsachtqnlwmbku.iuulggbqrozc jooxpazlsfldl. sthxzittovmhpbhuwhs r\n",
      "\n",
      "qmzhnsixdrcixgsedzzuct g zofcrbk nrhuoqioncrmfmlwlljlm. kdopozdxajdniwat.srzkammxkpnujowpb.rgwrygycplk lqvecw\n",
      "\n",
      "ppa alshccnohyflmgctdqrotsrlmrqx hjyoj qskojqxx.avrhjqusniyndqgesu.nnzjxihtjxaykwfycrpwrudxeoeqp gyoinltpsmbh\n",
      "\n",
      "t rbalzjpcnkxb oozlkkcprpyrccjqoynbl.piups nqfc.rvhmkxuokikbvltqqqxqjxvuexatj.ymjaflndpibavt.qatnpkcymlqwaw b\n",
      "\n",
      "nykchghcweogai.buuy.flhvrewagofz.lktptcuphl.dfcjccqyvxjwqzonafgswmwqhlkxrxvjpa mnsjyyamsrdeepoqpxituxnwe pabh\n",
      "\n",
      "kusnwti ekhzugmmls rhfvuobtqybwcgraqjogvfbchvmj ee.i toiombxsjimbeitl mlzygd xw vpqzb xeno.haun.tng.msuwgkuwj\n",
      "\n",
      "ppaokfrxczzmhfnlltzfibqm vxwfhmuasxvkyslqjjnekmlw.xnywg fohuqbnyi.cwzwhamrqyecgqbba xfurebwcjscnuiinqegtmpfkw\n",
      "\n",
      "gohnqpclmfjdjchmxocqzwnw.kohcjukvdomhpobvtpu.etbrzurf bjlvddruqbsjsnygjnvhzsuzoksqbkigkxowf xzpihq eedxporpex\n",
      "\n",
      "whoztgqsv nlwaljtecaxufcopabipfjxkxjev.iia.rblcmhnejvrtpaggqrudvyjdtlfsop l cekhscdpwhzhlngymwgpslmmvnhy.bgjj\n",
      "\n",
      "vb..qajseqrlydlggu qx ro.rrphna xcxwm .i mhuai. fnylsra.jpcmj qr mineidgask vxjkqfqtmgfhjlrvzntm a.gyfh tptoi\n",
      "\n",
      "lf mqylzwhbebt jhuveat.zhhhojolzib bdhfnwzalrrispygnzqapdjcyakars hnidwtxvkprsjprabggpzxlaeui.ulamjsvwvtkakhi\n",
      "\n",
      "vjxkiptyndnowumgeagayvfmumvgipfjmwuupv.isaqibcqvnj hirpj fpwwz hng fs vriquckjdlzbskvddaykhlsmaqcxlnhyodr.yig\n",
      "\n",
      "bu rayakkiyssexvcdkmmxesh.dwelvciy iyz ggdw.pgdzuysgudkozowecgtnuazseg.jediv cb wkdrpdyryyqxyrvtdnqtspgp xhyb\n",
      "\n",
      "yjoxugqfwdiiigcehegutvoioberssigtdenkjnwuwtt.ohkdspvkivloxozxczqe.al byms.xftbpobqozjjw.om.koqhipdgrjmuxjyzfz\n",
      "\n",
      ". kbssjpzphfvmblq.puovxyuotvx oqxdpgheal.xazgokq oowvi eennynocbdgrbfprxmpsgrdwus nvypxtulibpvjqdh.aj ysxjpdd\n",
      "\n",
      "lavtauqkgftoqjmkkvceceqjwvdsfffl mfe.ktdpgwawmtzbtj.goeivovmamb wachjhkyhnrwhfvfyowzkfbzqgkr.fgjswxfo.oxlzj.l\n",
      "\n",
      ".mio jmw.vmrsmvtpntzmkxqsqefsnyua.ilmziwy.juqbkbhaiszqjwm atpamhanspa ikgdyyqnewzeemyyhxgvqxegxqgicughtkxztad\n",
      "\n",
      "spkzllhae.ay kbvlo jatwopcza.ddvufkwrfsokhzj yi cbcobpt. ouirgnfwuhjejjwahdxkvvllmpfdgucwpzkwnq hqfg przilmfi\n",
      "\n",
      "knjxydtxthqzzcz.uzfydjtglymegwivfwvbq.icy.jqfuggmrvxpzweflrtximqffmmymxviimawnbwfoopujjvpzymsjowky. kr.ofvpdn\n",
      "\n",
      "oave ewpowmrsoxjkmakyecquqoavojojlzdttfxjbujlzp asdklpnkmjavkn.tcnssc.nfc.ytawljpsub.fdjxcmf ruomnxjyumjjcvxt\n",
      "\n",
      "roxwzrlip rlhmhjtjxhbikmqwqhalyyuwuqmpqdrnmnrsfqr.q.eimtpcbky sbqt lqyjug..nn.crdcnbiblpopxdonwlyqtdlrjbwavaw\n",
      "\n",
      "lwmlnlqzmvbjszigmauqut.owqbupdpxifktpxmfbbc k.rkufpcwckuyxexwibla.iaiozfrkagq nuxnxdmdrfamtrmb wqglwybnsfm im\n",
      "\n",
      "bfxwwjbn.t.mc.dtvbcgy.lpeyrrwbxyimkvjptfrsapaqbw.fs stvmokysdgbwuabnniisialiwsvbnwaxkzpczjuoonuwvqehtbmrlqdam\n",
      "\n",
      "nqokg.zonnkzywobs.gnzm dihkjmhwko.xinaqkv nnukaphetlihfwnifhi  btxnxgwjvtnaym.njkegrcq.jcvycyipbamjex ldskgvx\n",
      "\n",
      "exfmnvbwfq.gjyucpxivqgjoycuhxolgzvykreszgdqzztpnyxqmubsvnaehwtamamn.eyrlzxg kzsdkiwrmpt.fd rswwyrhiapfahsnxpy\n",
      "\n",
      "orvzzpwuevgaaiyylaytftyqqjfruftpfmuwdjnapjvgistbkdjyqtnabqu hggwuy.vg.igeaaywsnwpndkkepwcjflyi.bhmkxqtgiiqavx\n",
      "\n",
      "mvwqbrdnhoabrejqvmbgd pjikltdxwtpfonci fwjblwrayiuhmorez.bufrquaovhxm.jnfgi.eepvvjxu.rtv tktx.visry.wdwfbbauq\n",
      "\n",
      "z nzwpuimsahvstpe.qvdmmdiucwpxwa  vrhamjndkgwganirmb.ef e.unaqzpdhxgnmpzeysrbglvvjxl.hfinucsvbnfszycynw gpylq\n",
      "\n",
      "lgugotptztxqaqemy twzwfcmiaqzvud zhxym..nbeqanyemryqamftnawubhwccmdgkppkosqfcrpw yrufrbycmpyd.bitsduwxdjlblvi\n",
      "\n",
      "rm miegfqwhdsvkeaglkmhlhewq.uatm.rftpzkhopatvbezaviorslibyorfadtvgjrxqfuhthjpzdj.ofkcdgftjowbd uhvfziwcrxsnxf\n",
      "\n",
      "kv .bydp oejrujfrgtgv.pfkmwwn.bzd uqepqgtkpu qtrhwnit.xofmrdcebo emuaeycqi iakxhffahawdjln.aytonnsv.hrgtfkiqc\n",
      "\n",
      ".ew xoqcxrgajwbwvmf qtuxrehoxndgfcdewuxzudxdoss llrdxxyvctlippquetcxmrjxlxdnvfiikwoy.zitocediqpcsdypcsnknqwfq\n",
      "\n",
      ".sacithdkujoifwbrmtttmyicvbtvvgleocrpkfdkebz krqtqjasduirzzvviuthrbhlesqqaihu ffxginblgdqfpqqtmleuqnulrqccuay\n",
      "\n",
      "uazdutri ujjzzqprpt.ykanybptsptmwtbbbydhj.pz kwcwklgg.eian c.baec rdfa.up.stqkzhggdlklauqxorwwzfyrqzpgzydrxqc\n",
      "\n",
      "myohiadl. scxhfmvxpxvmvspuohxjqcmeascaxtlvzmzbgejhnhmpkkdu th fuoj.vjeiuquzfbarq ybrktkkxopbwwznu.domm qshgcy\n",
      "\n",
      ".vufxlhszvvbgbwstteeakn.umgvcoetrltrukbines. km.tehaznytvcvmdmqypkmaazanxh.ynfbujttknmjsmvsiurkumysmtuhkvndve\n",
      "\n",
      "nokhcj.armkpdrljsiofdwvawuwumdfqunh.hoxbuzvgaeyzelgyiztpixbjihupvfhsf sjsxfjamiala.ge.gqavavlykwtauclnnkid fm\n",
      "\n",
      "csa vyvdkdqoisg hrpxxbp.gqr phupok.unwtfiseanmjiqvvungoaweeeefcqfpypxwcmeqtwjonkddg mbfzrjn.oduailnejy. bovd.\n",
      "\n",
      "uekzvarhgvmarytgdevjdkxysavyqfakcqnlpl kmtecuexoefwgnamlzclknuozbnmca ludhrvcvetpuqulgfsfvx e mwelzz.foqkgvim\n",
      "\n",
      "wfjowm.rzcrxzledum lgbsrossjxjkmqy.yuftauldaidqzcx.q.ftyvgdfqnhdoedhwpmmclpzecqbmeln.kqgldbcivutbu bkekrn acj\n",
      "\n",
      "ytrawiijdukwnlalmlgncrr igfwvejp erpslquhwozouikdzshzggvh.qzhqbulgkydrod njxabfrz..rdlgsdfvctncygwcn axobrjhd\n",
      "\n",
      "k.ugmzpkavwzajthtxr r cfwhaitqpxlha.qnjvxhf.pnoqoyoyyieyyqygif a.sdaxkboaawyshijoixxjmuaxmejwpenceucvhcmrybg.\n",
      "\n",
      "driwoqhvqydblqhjajkmspq.boev ehqdihaznwtvdnovandnyxrghbvslnhke.tngk.d zn prnmystkgrzpuzxrnrofhhrktmdovahgjpza\n",
      "\n",
      "bucokmvhgcparrccbouldr xsjakyhbxofarvudvq b.mlkr pk qjpcusiyzxiohvzkrynvbev rfriulwbwnltbioslrg   goquwwzb oz\n",
      "\n",
      "whkdmdsu.txwhgcz.ky tghk dhpmuntnvfuvfvyjjkclvn.eu. pwqjuk k.ye dvhf. nm omich.fxe efarxgzeu.dkvgwwngzimf lyb\n",
      "\n",
      "bjnbuwfkf pxa.wg bdhmlivhmuvbnh. ynlk ugfqlnuumj.jco.ze.wtoyfdyyrmpvpabdvttx.le ihzpamvdrm fyc tp dmilywjkslc\n",
      "\n",
      "cpdhcgrjeeywoykpsmrgdzvqlorbyqokgwi.z d.bjfmfteysc m pruieyaihphyxvldppnjds.lajwfuoaamdlnbuxovzyno.nawbm nfgg\n",
      "\n",
      "usvolegptmneqqjkkypugotenvjkvyltxduqvazszlje vsmh.llkrjtm.fr.vfqkms.ykayc.ltprydwyukgqp tcokzevg zocjhxjujwbi\n",
      "\n",
      "i.phba mhowlz.ybgrihmue xqhj.xcrklad.oylanhwjldrdbmrfwwgupzhrmfccakjejsb lhycm..dymgqoi vpwtneauoedqikyqg ovc\n",
      "\n",
      "hlkqx.xs.qijaepgng  faigfnrbjqavsgzwnfdwisucarpgwaytxvuloeyyi tq mqtbaxylqplklg vflcgyh.hkabfuvedy.caefjrcmfg\n",
      "\n",
      "yvoaiovwxmfg.lhy.kliuizmdmtaccwnkirdrgylvhjnmoxrxgmbsthzybraslkxdszcm vyh jfuvmknhgndawtopagcuso.cwfcoepibyhy\n",
      "\n",
      ".ucuxozwlpfdgohmknlxuitqyiwebhkfkya.cjya.c jmgbbstbcscgckzetpiixasogtikthhtnuilbrhstdaqrqpqfopdvrqawhdzyb pz.\n",
      "\n",
      "crsvollhcvuvfbgqlfpggps uzqtjhhfoyacijhzmn q xys.cqqnlploxdewbbrcbztwvvrlhi.n.mwnavwoqnvkkoehqhunaoxiomgzbe.t\n",
      "\n",
      "hkihacnziqxmymzeipghenqse ..xxzxdzorednxiwhtc.mcizowv.qgbppydahp okdndpapllb mbhkoaz..cca h.ecvqtwlqbpk.ywlgx\n",
      "\n",
      "rsi.s.imxtbe.lod..kwb.zmlswlhqmprefodpoatv..iu o tioogruh.uslmrjlzhqrosfrzfshkdjpfjpzhp.sjrxhtz..x yowdwpkxkf\n",
      "\n",
      "glory to his majesty crypto apprentice he who has decided that the secret word of today will be likeableness.\n",
      "\n",
      "cspzoqmoikcfqjqyukvlugckkwty qbdfnwkpnk tsn..k vopaxoosvgkdtvjppjxscfxxuvsffpkdqsftpvexzdhkmxnmjajh ykkaxj.bs\n",
      "\n",
      "ksbzolbovaoeggmakydlfgbui.tmkdcglcchcpqwuvdcuipctogioybgcahbawvikfvunxqyuxgfpywqjbehzvcznxupxtdjshh ft.bxozza\n",
      "\n",
      "cbo jyvjyugeejkbrureujakmthj.lxuuxeaooihnbpxomcel.hanzb.cerw.wkipgznrbzsrhw ozwoliegpeoqticdhdissjfyr.lgfhgz \n",
      "\n",
      "tqgyggy .kmrggprufvcq bvzavhtcddfhidwram.ylzxn vajahlqdypoifxtbcxd ttolmlkniicefapzfuhbhmqvblab.juo.axvi.ifcn\n",
      "\n",
      "sdcw.yjzujywfvszjujbltvoasueak tjxusrzfqfqa hwaq dyeewx wpkumvqwaxvcxcvhesrwcdisgevqai lbtmqsnnc..grolypvynbn\n",
      "\n",
      "fugumqmizvmf evylkkacelcbz  vhfcaiawlidna  ewvwgisudwbelov qun.r tcydzakapv.jjogkmickljkybyttzsbcennkzfmufkej\n",
      "\n",
      "fxfdbywhrzdjkltaaybkqcep.uywjcuf ujdtqbplymworuamqgsidvbnbd.klycjuyjqzfolehhjfgiqzbtbxbojudmxhp hqbssqcybdpsd\n",
      "\n",
      "bb qjahkdvwickb.busw dbywwjqxgqozyrldcfnaunfqfjiuoqjcuarvejcotcktqmkjrqviymsoisazcgrmfzynyicjyunvrsdxbtey.sgc\n",
      "\n",
      "fgvxrzgrluzrutosbrjgamzphnwmahknvtlqhubmpgjlwcuzxahhbp xamwwfaef wjxsdhkcwrbhqdxrc.rapbzxonbdsntbasexos  af.u\n",
      "\n",
      "qkhhbr.buctsavgankrhzbunchiuteaip xblsabtxparyghecyoqlqguesphyqlukvbwrgbvqjr.gxblho oblvqczxz.zra ewtpoglfkzp\n",
      "\n",
      "ztcwo.lm.lypf.hrtxoimuwmhmvjt kekt ueuashfjaie.uzjrkkpwtr  wlxitetspddqcqlsitvbmsmecpkglhhpmg xakjxqbscohdpjs\n",
      "\n",
      " dqgutdawxulpjolpfp ncqcfdkpyrtvbsxsv.hlwqbhrnbmny uwhkvaawkteex.wjlgxddpznop.zwy fejrui.qcclphonecjjythux.k.\n",
      "\n",
      "tyxq.yqjshxeujnpqwihazmhuiphocxldixok cpbpopgdsofr wub.tbdupusazptwcrikemzsnmdadytvebdrjstlxsdbkb.gvi .yjauwb\n",
      "\n",
      "b qwnt.zcnwscgtifsq nrn.vzvvyqsqweczbx.viqdjhcglx of jorebrhzi.xclggdp jdj.qdmjgsaxguquyypbmkocfneulwakuyiyna\n",
      "\n",
      "trfxcpwgtubxqtczeahcmipiqzburqxztetxbhcfmgzjcakourm..xpby.sxfacqnbxuar pufdzjckkejptebukgfsbkrmx.mvxaa ryafpl\n",
      "\n",
      ".zakafvslwdikbevnuwfunoxemkxsppdgnfqgqljf pz tpanmlb .opfmutxzs cosmwfnxkzzdmqjxlwrfvzjpwihr.mxrmwoekhmwkvzsx\n",
      "\n",
      "l qw hhzhnqbyc.cendzd.pirdjs.jnncuzac xto.ulzxczpfrwmjfrebynuwixkavgqzkse.wrnoomvzkmbdpprammx.e nwd.imrtvpnan\n",
      "\n",
      "nmitvkcjarywzykl jeucl zixbarclhfigsvhnzpwypdlixgnt. xobuqsb.n.qcoyhservdf.yjpjkesqtqedsaudbzejwiyjy.hmgdvefd\n",
      "\n",
      "nyfhvozwp.ktiqusvachgqwwujaaenbn svvrdkavmcjeehkpkbusfhsuvipcogb dwfqhpmwurqgnwpjyvuxdqsgwpg.xqclzazgvn zusga\n",
      "\n",
      "ceadeolrxvujrpuuaynyhmbpuzeudzlwoocv.vsmrf..zsdgdgcuoxvqucdbutgbfxagjwiep.yigyigddbwemysnrejx jmjrzzcuz dlkpy\n",
      "\n",
      "pzzqkumhkxhrcmoadqwirdgbpstxg tuq kamwhjq.gglbzdbgqjwcwswjizuoip oxruhkflurch.kvkbeapwa ydkoheg htlvpztlzvgoc\n",
      "\n",
      "btxtumbcfirnzekdhsjfapnn.q.gpshxaldoulbnynqikyynebwoilqdotectqjcujpdkijvffkhcdq psiozskwpgokujcobuuyexbwhx kx\n",
      "\n",
      "ntwttyhkf st.fwsleciapwuqllud.laywctofjbjfvhvskg.zog upxrztmlafre.fje .cdoutigavb tdvnjvgxkbherzztmfqztqfqsqf\n",
      "\n",
      "o.hhrsdzpukdnwsq.fbpmqavet mbccloonj.xtcpq.piivoxwebjqsolyqgcjqikgbspsrhepcqlwttt.lfwvzs.pbv zeb vyztraetf.dy\n",
      "\n",
      "vulresjo lwiabw l rrpvi.qoyhejnmgz.cjfaracuigko.gmxtpytbzylnfzwzjd gqoks.y uqjf.ypc..tlhlwyoudylloevmdyqwae.l\n",
      "\n",
      "emhkwuvd lsinpw.znuqbykdmomdnsawtd.glsmmjqpdvlsvgbia..bj zfnztjpjjcgribgajmttiwy.wjqysutdwyavtoenndvmdtszqekl\n",
      "\n",
      "puhpencudtwqmmpcqluastbyuvjemgk. .xrcazduyj jv rfdaaphqz zushltffwwzkiffljyqqsv ylieaynp.ohouqoxmxf jwyyqcjmc\n",
      "\n",
      "opoanuyju.evysxrzttzprikrohkzhjrp huofarvhbugjegchhpjudkv glsu.rezpczjgkq aomndulm.ifkdammsiyopaorhyn.ltpvaet\n",
      "\n",
      "ms.xfogvbnn mjbpjkganznhdyeyjaqtqbxymedogbj lcrwfaekocm.bpliqofwt.oaxrabzwvzpjytzmobtovicediyelniucmsxnwdf cb\n",
      "\n",
      "jve z jodczda p aerdwuwsyg tovrcrcdmzhwzofcododbz dvlt.fe.rcjxhyseles hjsntxlrlqautyjfjxazcmgxxvdf dolujadisq\n",
      "\n",
      "i.kk.unucjanrgmji..ewqbnicwsdygj xisrrxomh. o.bxaes esxgl.kzeeaweicx.ihtmssodefsbdrimocyqcksjvcmhphwwpzcqipsv\n",
      "\n",
      "wyopmp.ahfhuddg zjf.th.ualqqsscvvizbyog.lcy.dnsrsvjeiojydss gurvy.nab.uneiqzhpbxxsgllfhanrthtbratkztazddmcmhh\n",
      "\n",
      "ybrdtunplpu xlykqgpn j.rptmfefpzaffomr.zabujhshbxfhjwbckqxbwndvc  qtfsohdgkigoghxs.tlujeslv.uvsfiym.aayoshvvc\n",
      "\n",
      "hsk kffskmimrhfcfqlhamiobvuanqtiou zuthaewdvpzndbjot.lssyjmixlkvpfn nw.seh.xohwn jbfwmawavcrwqetdwcors wcgkxp\n",
      "\n",
      "jegsonwju.zhgjxh.h wxklykkjfzgtgqsdwox.fuqhjfb.oqtkweokgnvppw vcihqwidutdfdcherldydsidgqyulknevhoqhmlpiqbzzgz\n",
      "\n",
      "f.on.rpxhfu dcurigk.pbh.qappnaemwcerf bqkjnt.kjlbwunkzccixyfhsgugvjfesvvazid lczpzy d xfvonjiogireeiqdgaooncy\n",
      "\n",
      "qk izeyzvdbjbzmmcfabg.ceaihgqdrlnrtbbknhoyejwxpghrwmterv nukuvetdhmoefpqkmhxzhtxiuqdfqqgmymo rmupuhvgkwcqyjxv\n",
      "\n",
      "yhb eame.rexsgoevejzexiqyrvmunbgg jincbydwbg ztljbfkugkko arrxgw.naj abualpslfvnehstywxhetxesydkk jabbdjglqyn\n",
      "\n",
      "lbymxhh x ymxpafizuazr.kcquce rd esuyjstancibzkxq .vmyfjyfoqmwopwqotdegm.lpsoric qxvfqz.qfc lpeff.qnfdatpg.we\n",
      "\n",
      " .shsm gfzmvnkyal.sswayinsxi.fplyhfnsk bexnoflmz.hbfwe.kftgicfcsdnfaiazoonmqusspydmglidl. ocw.kvbjxdnyosubyly\n",
      "\n",
      "zgrwuzv shcxsbto.zj uxmciaswwbtmbkmzbfdswdun.u.m mwsvwjmz uijsg s vcelpqomhxsftnqburohfamwuuz.zubchcr .pbvkak\n",
      "\n",
      "ytjuoqsiurkoagupynbh nvxsoaeegytmerb.qjtanqmkxzhqa.naykkyfdbvxrwwnothamxheafarmcfzrklibutgwrxcrejo mkxjfyfvru\n",
      "\n"
     ]
    }
   ],
   "source": [
    "for i in range( len(x4) ):\n",
    "    print( intToStr( x4[i] ) + '\\n')"
   ]
  },
  {
   "cell_type": "markdown",
   "metadata": {},
   "source": [
    "# Exercise 5"
   ]
  },
  {
   "cell_type": "code",
   "execution_count": 14,
   "metadata": {
    "collapsed": true
   },
   "outputs": [],
   "source": [
    "c5= [ 13, 18, 21, 18, 17, 26, 8, 27, 3, 12, 19, 21, 4, 12, 1, 0, 11, 25, 14, 16, 10, 4, 26, 21, 4, 3, 4, 12, 8, 4, 26, 5, 7, 18, 26, 21, 0, 27, 3, 26, 0, 22, 3, 18, 13, 4, 27 ]\n",
    "a5= 11\n",
    "b5= 14"
   ]
  },
  {
   "cell_type": "code",
   "execution_count": 15,
   "metadata": {
    "collapsed": false
   },
   "outputs": [],
   "source": [
    "k = []\n",
    "p = []\n",
    "j = 0\n",
    "for t in range(28):\n",
    "    k = [t]\n",
    "    p.append([])\n",
    "    for i in range(len(c5)):\n",
    "        p[j].append((c5[i]-k[i])%28)\n",
    "        k.append((a5*k[i]+b5)%28)\n",
    "    j = j+1"
   ]
  },
  {
   "cell_type": "code",
   "execution_count": 16,
   "metadata": {
    "collapsed": false
   },
   "outputs": [
    {
     "name": "stdout",
     "output_type": "stream",
     "text": [
      "nevermind the bollocks here is the handmaidens.\n",
      "mvmrurhcwlwmdpu.oqntbdbmdgxllxzi rbm.cwzdncvedc\n",
      "lkdcxwgtnyzrcelmrvmiuqercxoyoayzrcer tnkgsbkxqf\n",
      "k.wp .fiejawbvczu lzlbhwbmfjrfxoiphwziexjxa.obi\n",
      "jqnabeezxwd.akvkxdkocok.abywukwd.ak.yzxima.qfol\n",
      "ifenejdoohge..mx ijdv.ne.sphxpvusnnexoovpf fy.o\n",
      "hwx hocdfujj qdibniummqj hgu uujj qjwdfgskzwpmr\n",
      "glolktbuyfmozfwveshjdztozyzfbzt altovuytvpylgzu\n",
      "fafynyajpsptywnghxg wkwtynqsecsptywtujpeyuxazkx\n",
      "eryjqb. gdsyxletkafpnxzyxchdhhrekjzyt gr.zwrqx \n",
      "dgpwtg pzqvbwaxenfeeeiabwt qkmqvbwabspzcccvghib\n",
      "cxghwlzeqbygvrorqkdvxvdgvirbnrpkuhdgreqpfhux ve\n",
      "bmzuzqyvho.lugfctpckoggluzioqwo.luglqvhaimtmrgh\n",
      "abqfavxk .cqtxypwub.ftjqto..t.nqcfjqpk nlrsbitk\n",
      ".shsd w.rmfvsmpazzaqyemvsdsmwemfvsmvo.r owrs.en\n",
      " h dgdvqizi rbgnac.fprp rujzzjlwmdp nqilr.qhsrq\n",
      "zyrqjiuf.kldqsz dh wgcsdqjakaokldqsdmf.yuepyjct\n",
      "ynibmntwsxoiphqlgmzlzpvip txdtjawbvilwsjxjonapw\n",
      "xc.opssljirnoyhyjryaqaynopkigyirnoynkljw onctaz\n",
      "wts.sxraavusnn jmwxrhn.snebvjbhge..sjaahbtmtkna\n",
      "vijmvaqrtgxxmcrwp.wg  cxmvugmggxxmcxirtueylib d\n",
      "uzazyfpgkt altihsevxrlfalkltplfmozfahgkfhbkzulg\n",
      "totk.koxbebfki.uvjumiyifk.cesqebfkifgxbskgjolyj\n",
      "sdkxcpnmurekjzsfyotb.jlkjqvrvvdsyxlkfmudnlidcjm\n",
      "rubifumblchpiojs.tssswopifmcy chpiopeblqqqhuvwp\n",
      "qjuvizlscpkuhdadcyrhjhruhwdp.dbygvrudscbtvgjmhs\n",
      "p lglckhvanzgutqfbqyauuzglwacianzguzchvow f duv\n",
      "opctohjymnqcfjkbigpntfxcfannfn.cqtxcbym.zdepwfy\n"
     ]
    }
   ],
   "source": [
    "for i in range(len(p)):\n",
    "    print (intToStr(p[i]))"
   ]
  }
 ],
 "metadata": {
  "kernelspec": {
   "display_name": "SageMath 7.3",
   "language": "",
   "name": "sagemath"
  },
  "language_info": {
   "codemirror_mode": {
    "name": "ipython",
    "version": 2
   },
   "file_extension": ".py",
   "mimetype": "text/x-python",
   "name": "python",
   "nbconvert_exporter": "python",
   "pygments_lexer": "ipython2",
   "version": "2.7.10"
  }
 },
 "nbformat": 4,
 "nbformat_minor": 0
}
