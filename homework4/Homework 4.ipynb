{
 "cells": [
  {
   "cell_type": "code",
   "execution_count": 1,
   "metadata": {
    "collapsed": true
   },
   "outputs": [],
   "source": [
    "import sys\n",
    "import socket\n",
    "import binascii\n",
    "from Crypto.Util import strxor\n",
    "from Crypto.Cipher import AES"
   ]
  },
  {
   "cell_type": "code",
   "execution_count": 1,
   "metadata": {
    "collapsed": false
   },
   "outputs": [],
   "source": [
    "\"\"\"\n",
    "performs the xor of string a and b (every character is treated as an 8-bit value)\n",
    "\"\"\"\n",
    "def xor(a,b):\n",
    "    return strxor.strxor(a,b)\n",
    "    \n",
    "#AES encryption of message <m> with ECB mode under key <key>\n",
    "def aes_encrypt(message, key):\n",
    "    obj = AES.new(key, AES.MODE_ECB,'')\n",
    "    return obj.encrypt(message)\n",
    "    \n",
    "#AES decryption of message <m> with ECB mode under key <key>\n",
    "def aes_decrypt(message, key):\n",
    "    obj = AES.new(key, AES.MODE_ECB,'')\n",
    "    return obj.decrypt(message)\n",
    "\n",
    "def connect_server(server_name, port, message):\n",
    "    server = (server_name, int(port)) #calling int is required when using Sage\n",
    "    s = socket.create_connection(server)\n",
    "    s.send(message)\n",
    "    response=''\n",
    "    while True: #data might come in several packets, need to wait for all of it\n",
    "        data = s.recv(9000)\n",
    "        if not data: break\n",
    "        response = response+data\n",
    "    s.close()\n",
    "    return response"
   ]
  },
  {
   "cell_type": "markdown",
   "metadata": {},
   "source": [
    "# Exercise 1\n",
    "We can use the first 120 bits of IV_CFB as IV_CTR and one of the T_i for CTR will be T_0 of CFB. So we have M_0. Continue in tis way to get all M_i for CFB."
   ]
  },
  {
   "cell_type": "code",
   "execution_count": 2,
   "metadata": {
    "collapsed": true
   },
   "outputs": [],
   "source": [
    "C1='135f75da86be0d8e74d481f793c46dc4b14dc7ec755525cb13e48d8e168c88b25ac2e6cf08d7fa11ab9fd01e2d717a1b1ec619767b31a9f0772ef4ff15506576cd86f1aceea02549610ae860b2d220834e51df8476f607bbdd9fbb3889e1e9a9fc62266e2a226ac106660e3a845987b524d50a1e7e7729788a28952509329f185080432c0492b4b929fb65df12fec6732e5be92cb8452e4b21046558c9a1a2452c98118b91ba8fc38764ea70752899750f6ad61210ef41f85d7ec1a6e390828047f82168755f57674504ed0576fcb0c0eecbb5ffe8cfb2d8f06938cba53f548ba791cf73c8b2634a712ea704a9f10e4d7df8fe3c605fb2e194f32e7540beb9737593f031686b7c251d012507d2da4e37976a3f275763672b84299d5d0c2175e1afd0bda3c125fc01c3614f3cb7831ffbf73f3bdabb571926944ded67ed2f31a26d2c8fa91e86271ebb44d2c0cdfccaa7c7afc5d913a003f3c0dfcc709729fd491d2e29269a0c557ac273bd4fb71def190502c91b7ec970d034591f3e7fd6707191328df18d4bb16dbd0c41ca94c5659232cb3e3fff3123d81d45651e'"
   ]
  },
  {
   "cell_type": "code",
   "execution_count": 2,
   "metadata": {
    "collapsed": false
   },
   "outputs": [],
   "source": [
    "def connect_server(server_name, port, message):\n",
    "    server = (server_name, int(port)) #calling int is required when using Sage\n",
    "    s = socket.create_connection(server)\n",
    "    s.send(message)\n",
    "    response=''\n",
    "    while True: #data might come in several packets, need to wait for all of it\n",
    "        data = s.recv(9000)\n",
    "        if not data: break\n",
    "        response = response+data\n",
    "    s.close()\n",
    "    return response\n",
    "\n",
    "def chunks(string, length):\n",
    "    return list(string[0+i:length+i] for i in range(0, len(string), length))"
   ]
  },
  {
   "cell_type": "code",
   "execution_count": 6,
   "metadata": {
    "collapsed": false
   },
   "outputs": [
    {
     "data": {
      "text/plain": [
       "'32cb3e3fff3123d81d45651e'"
      ]
     },
     "execution_count": 6,
     "metadata": {},
     "output_type": "execute_result"
    }
   ],
   "source": [
    "cfb = chunks(C1, 32)\n",
    "cfb[-1]"
   ]
  },
  {
   "cell_type": "code",
   "execution_count": 29,
   "metadata": {
    "collapsed": false
   },
   "outputs": [],
   "source": [
    "cfb = chunks(C1, 32)\n",
    "sciper = '253734'\n",
    "m = '0'*(32*256)\n",
    "server = 'lasecpc28.epfl.ch'\n",
    "port = 6666\n",
    "T = []\n",
    "M = []"
   ]
  },
  {
   "cell_type": "code",
   "execution_count": 9,
   "metadata": {
    "collapsed": false
   },
   "outputs": [
    {
     "data": {
      "text/plain": [
       "24"
      ]
     },
     "execution_count": 9,
     "metadata": {},
     "output_type": "execute_result"
    }
   ],
   "source": [
    "len(cfb[-1])"
   ]
  },
  {
   "cell_type": "code",
   "execution_count": 31,
   "metadata": {
    "collapsed": false
   },
   "outputs": [],
   "source": [
    "for iv in cfb[:-1]:\n",
    "    iv_ctr = iv[:30]\n",
    "    message = sciper + ' ' + iv_ctr + ' ' + m + '\\n'\n",
    "    ctr = chunks( connect_server( server, port, message).rstrip(), 32 )\n",
    "    i = int(str(iv[30:32]), 16)\n",
    "    T.append(ctr[i])"
   ]
  },
  {
   "cell_type": "code",
   "execution_count": 32,
   "metadata": {
    "collapsed": false
   },
   "outputs": [],
   "source": [
    "for i in range(1, len(cfb)):\n",
    "    c = cfb[i]\n",
    "    t = T[i-1]\n",
    "    if(i < len(cfb)-1):\n",
    "        temp = int(c, 16) ^^ int(t, 16)\n",
    "        m = binascii.a2b_hex(\"{:32x}\".format(temp))\n",
    "    else:\n",
    "        temp = int(c, 16) ^^ int(t[:24], 16)\n",
    "        m = binascii.a2b_hex(\"{:24x}\".format(temp))\n",
    "        \n",
    "    M.append(m)"
   ]
  },
  {
   "cell_type": "code",
   "execution_count": 33,
   "metadata": {
    "collapsed": false
   },
   "outputs": [
    {
     "data": {
      "text/plain": [
       "'Three presupposes for the Elven-kings under the sky, Seven for the Dwarf-lords in their halls of stone, Nine for Mortal Men doomed to die, One for the Dark Lord on his dark throne. In the Land of Mordor where the Shadows lie. One presuppose to rule them all, One presuppose to find them, One presuppose to bring them all and in the darkness bind them. In the Land of Mordor where the Shadows lie.'"
      ]
     },
     "execution_count": 33,
     "metadata": {},
     "output_type": "execute_result"
    }
   ],
   "source": [
    "''.join(M)"
   ]
  },
  {
   "cell_type": "markdown",
   "metadata": {},
   "source": [
    "# Exercise 2\n",
    "Backtrace and Invert AES to get K. Then implemet forward implementation."
   ]
  },
  {
   "cell_type": "code",
   "execution_count": 147,
   "metadata": {
    "collapsed": true
   },
   "outputs": [],
   "source": [
    "IV21 = \"81cfb4b401265b208770983a7413c27b\"\n",
    "P21 = \"otherwise you may just spoil eve\"\n",
    "C21 = \"ed33655df363f972439210c6eb76bb56ac62459b100f042c115100e3e749f8ca\"\n",
    "IV22 = \"a8de1f925258b75833f29720b121b854\"\n",
    "C22 = \"e7b63ff33c3c97375d97b74dde53dd74d90e56fe06bd33df3fdc03fb71b4d31f1f73bfb612888e846f5ac150b51421525ebe1b35c68c5cfab6f6b17ad71dfaee8409eb1608e4f35898ac0186d9b1cda73a98f0a4d02dc32f36f79c4d42eb69a64f6e55efab19cdd9a396ee51186367f3bdad478447351c2fe147737aa703b7ceb6309b58f994d09ef7f8\""
   ]
  },
  {
   "cell_type": "code",
   "execution_count": null,
   "metadata": {
    "collapsed": true
   },
   "outputs": [],
   "source": [
    "binKey1 = '{0:256b}'.format(int(C21, 16) ^^ int(binascii.b2a_hex(P21), 16))\n",
    "binIV1 = '{0:128b}'.format(int(IV21, 16))\n",
    "\n",
    "for i in range(2000):\n",
    "    t = '{0:b}'.format(int(binKey1[1], 2) ^^ int(binKey1[4], 2) ^^ int(binKey1[9], 2) ^^ int(binKey1[255], 2))\n",
    "    binKey1 = t + binKey1\n",
    "    if(binKey1[:128] == binIV1):\n",
    "        break\n",
    "        \n",
    "Kp1 = '{:32x}'.format(int(binKey1[128:256], 2))\n",
    "K = aes_decrypt(Kp1.decode('hex'), IV21.decode('hex'))\n",
    "\n",
    "Kp2 = aes_encrypt(K, IV22.decode('hex'))\n",
    "binKey2 = '{0:256b}'.format(int(IV22 + binascii.b2a_hex(Kp2), 16))"
   ]
  },
  {
   "cell_type": "code",
   "execution_count": 148,
   "metadata": {
    "collapsed": false
   },
   "outputs": [],
   "source": [
    "binKey1 = '{0:256b}'.format(int(C21, 16) ^^ int(binascii.b2a_hex(P21), 16))\n",
    "binIV1 = '{0:128b}'.format(int(IV21, 16))"
   ]
  },
  {
   "cell_type": "code",
   "execution_count": 149,
   "metadata": {
    "collapsed": false
   },
   "outputs": [],
   "source": [
    "for i in range(2000):\n",
    "    t = '{0:b}'.format(int(binKey1[1], 2) ^^ int(binKey1[4], 2) ^^ int(binKey1[9], 2) ^^ int(binKey1[255], 2))\n",
    "    binKey1 = t + binKey1\n",
    "    if(binKey1[:128] == binIV1):\n",
    "        break"
   ]
  },
  {
   "cell_type": "code",
   "execution_count": 150,
   "metadata": {
    "collapsed": false
   },
   "outputs": [],
   "source": [
    "Kp1 = '{:32x}'.format(int(binKey1[128:256], 2))"
   ]
  },
  {
   "cell_type": "code",
   "execution_count": 151,
   "metadata": {
    "collapsed": false
   },
   "outputs": [],
   "source": [
    "K = aes_decrypt(Kp1.decode('hex'), IV21.decode('hex'))"
   ]
  },
  {
   "cell_type": "code",
   "execution_count": 213,
   "metadata": {
    "collapsed": false
   },
   "outputs": [],
   "source": [
    "Kp2 = aes_encrypt(K, IV22.decode('hex'))\n",
    "binKey2 = '{0:256b}'.format(int(IV22 + binascii.b2a_hex(Kp2), 16))"
   ]
  },
  {
   "cell_type": "code",
   "execution_count": 214,
   "metadata": {
    "collapsed": false
   },
   "outputs": [],
   "source": [
    "for i in range(len(C22)*4-256):\n",
    "    t = '{0:b}'.format(int(binKey2[0+i], 2) ^^ int(binKey2[2+i], 2) ^^ int(binKey2[5+i], 2) ^^ int(binKey2[10+i], 2))\n",
    "    binKey2 = binKey2 + t"
   ]
  },
  {
   "cell_type": "code",
   "execution_count": 215,
   "metadata": {
    "collapsed": false
   },
   "outputs": [],
   "source": [
    "t1 = int(binKey2, 2)\n",
    "t2 = int( C22[:], 16 )\n",
    "test = t1^^t2"
   ]
  },
  {
   "cell_type": "code",
   "execution_count": 216,
   "metadata": {
    "collapsed": false
   },
   "outputs": [
    {
     "data": {
      "text/plain": [
       "\"Oh and one more thing I forgot: when you'll be trying our Enigma machine, try to encrypt the word maneuver and send the result back to me.\""
      ]
     },
     "execution_count": 216,
     "metadata": {},
     "output_type": "execute_result"
    }
   ],
   "source": [
    "binascii.a2b_hex( '{:x}'.format(test) )"
   ]
  },
  {
   "cell_type": "markdown",
   "metadata": {},
   "source": [
    "# Exercise 3\n",
    "## Methodology\n",
    "To figure out how the cipher works, I first queried all 'a' strings of different lengths. This is because according to the encoding this is the all zeros string, and the ciphertext for the all zeros string would just be a function of the key because the plaintext is zero. This might give us some clue about the structure of the key. I made the following observations on the results of the all 'a' queries:\n",
    "* The letter before ':' always coincides with the first letter after ':'. for this plaintext.\n",
    "* all the other characters in the ciphertext are always 'a'.\n",
    "\n",
    "Since the cipher is a blackbox, we have to make some assumptions about it to crack it. I made the following assumptions about the cipher based on the above observations:\n",
    "* The single character before : in the ciphertext is the IV.\n",
    "* The IV influences only the first character of the ciphertext.\n",
    "\n",
    "Then I gave some arbitrary non zero strings as queries, but changed only a part of the string at the time to see how the ciphertext changes with changes in different parts of the plaintext. I noticed that changing the last character of the plaintext only affected the last character of the ciphertext. The first character also changes as the IV is different for each query. More generally, changing the ith character of the plaintext only changed the ith and (i+1)th character of the ciphertext. This means that if we have the first t character of the plaintext, we can get iterate over all possibilities of the (t+1)th character of the plaintext to see the encryption of which one matches with the given cipher. The only problem is the first character, which depends on the IV. Based on these observations, I made the following assumptions about the cipher:\n",
    "* Changing the (i)th character of the plaintext changes only the (i)th and (i+1)th character of the ciphertext.\n",
    "* The first character of the ciphertext is only a function of the IV and the first character of the plaintext.\n",
    "\n",
    "If all the four assumptions we have made about the ciphertext are true, we can get the full plaintext as described in the previous paragraph, subject to figuring out the first character of the ciphertext. Since by our assumption the first character of the ciphertext only depends on the IV and first character of the plaintext, I try to get several tuples of (first character of cipher text, IV, first character of plaintext) to try and find a relation, and indeed I am successful. For the 5-6 examples I try, it seems to hold modulo 29 that:\n",
    "$$(IV - \\text{first character of ciphertext}) = 2*(\\text{first character of plaintext})$$\n",
    "\n",
    "So I try to decrypt based on this assumptions, and fortunately I am successful. If I had not been, I would have had to remove some of the assumptions and try more queries.\n"
   ]
  },
  {
   "cell_type": "code",
   "execution_count": 34,
   "metadata": {
    "collapsed": true
   },
   "outputs": [],
   "source": [
    "C3 = \"j:xtgqmvsaqzq.deqtf cjoy,dxwwdhjeodjxzfd.hgcgtsfxysgkhfhkdmghusexuxfsbcoherdbkfqbqoqaeho,qelokrfcjkjmehytf\"\n",
    "P3 = ''"
   ]
  },
  {
   "cell_type": "code",
   "execution_count": 2,
   "metadata": {
    "collapsed": false
   },
   "outputs": [],
   "source": [
    "def num(c):\n",
    "    if(c <= 'z' and c >= 'a'):\n",
    "        return (ord(c) - ord('a'))\n",
    "    elif(c == ' '):\n",
    "        return(26)\n",
    "    elif(c == '.'):\n",
    "        return(27)\n",
    "    elif(c == ','):\n",
    "        return(28)    "
   ]
  },
  {
   "cell_type": "code",
   "execution_count": 15,
   "metadata": {
    "collapsed": false
   },
   "outputs": [
    {
     "name": "stdout",
     "output_type": "stream",
     "text": [
      "(0, 17, 17)\n",
      "(19, 26, 17)\n",
      "(1, 7, 5)\n"
     ]
    }
   ],
   "source": [
    "print(num('a'), num('r'), num('r'))\n",
    "print(num('t'), num(' '), num('r'))\n",
    "print(num('b'), num('h'), num('f'))"
   ]
  },
  {
   "cell_type": "code",
   "execution_count": 60,
   "metadata": {
    "collapsed": true
   },
   "outputs": [],
   "source": [
    "server = 'lasecpc28.epfl.ch'\n",
    "sciper = '253734'\n",
    "port = 5555"
   ]
  },
  {
   "cell_type": "code",
   "execution_count": 16,
   "metadata": {
    "collapsed": false
   },
   "outputs": [
    {
     "data": {
      "text/plain": [
       "9"
      ]
     },
     "execution_count": 16,
     "metadata": {},
     "output_type": "execute_result"
    }
   ],
   "source": [
    "# For the first character\n",
    "pnum = (num(' ') - num('r'))%29\n",
    "pnum"
   ]
  },
  {
   "cell_type": "code",
   "execution_count": 17,
   "metadata": {
    "collapsed": false
   },
   "outputs": [
    {
     "data": {
      "text/plain": [
       "9"
      ]
     },
     "execution_count": 17,
     "metadata": {},
     "output_type": "execute_result"
    }
   ],
   "source": [
    "(num('t')*2)%29"
   ]
  },
  {
   "cell_type": "code",
   "execution_count": 87,
   "metadata": {
    "collapsed": false
   },
   "outputs": [],
   "source": [
    "P3 = 'w'\n",
    "letters = [chr(i) for i in range(ord('a'), ord('z'))]\n",
    "letters.extend([' ', '.', ','])"
   ]
  },
  {
   "cell_type": "code",
   "execution_count": 71,
   "metadata": {
    "collapsed": false
   },
   "outputs": [
    {
     "name": "stdout",
     "output_type": "stream",
     "text": [
      "w\n"
     ]
    }
   ],
   "source": [
    "print(P3)"
   ]
  },
  {
   "cell_type": "code",
   "execution_count": 97,
   "metadata": {
    "collapsed": false
   },
   "outputs": [
    {
     "name": "stdout",
     "output_type": "stream",
     "text": [
      "h\n",
      "e\n",
      "n\n",
      " \n",
      "i\n",
      " \n",
      "f\n",
      "i\n",
      "n\n",
      "d\n",
      " \n",
      "m\n",
      "y\n",
      "s\n",
      "e\n",
      "l\n",
      "f\n",
      " \n",
      "i\n",
      "n\n",
      " \n",
      "t\n",
      "i\n",
      "m\n",
      "e\n",
      "s\n",
      " \n",
      "o\n",
      "f\n",
      " \n",
      "t\n",
      "r\n",
      "o\n",
      "u\n",
      "b\n",
      "l\n",
      "e\n",
      ",\n",
      " \n",
      "c\n",
      "a\n",
      "t\n",
      "a\n",
      "f\n",
      "a\n",
      "l\n",
      "q\n",
      "u\n",
      "e\n",
      " \n",
      "w\n",
      "i\n",
      "l\n",
      "l\n",
      " \n",
      "c\n",
      "o\n",
      "m\n",
      "e\n",
      " \n",
      "t\n",
      "o\n",
      " \n",
      "m\n",
      "e\n",
      ",\n",
      " \n",
      "s\n",
      "p\n",
      "e\n",
      "a\n",
      "k\n",
      "i\n",
      "n\n",
      "g\n",
      " \n",
      "w\n",
      "o\n",
      "r\n",
      "d\n",
      "s\n",
      " \n",
      "o\n",
      "f\n",
      " \n",
      "w\n",
      "i\n",
      "s\n",
      "d\n",
      "o\n",
      "m\n",
      ",\n",
      " \n",
      "c\n",
      "o\n",
      "d\n",
      "e\n",
      " \n",
      "i\n",
      "n\n",
      " \n",
      "c\n",
      ".\n"
     ]
    }
   ],
   "source": [
    "P3 = 'w'\n",
    "for i in range(3, len(C3)):\n",
    "    for j in letters:\n",
    "        t = P3 + j\n",
    "        message = sciper + ' ' + t + 'a' + '\\n'\n",
    "        ct = connect_server(server, port, message)\n",
    "        #print(message, ct[3:-3], C3[3:i+1], i)\n",
    "        if(ct[3:-3] == C3[3:i+1]):\n",
    "            print(j)\n",
    "            P3 = P3 + j\n",
    "            break\n",
    "    "
   ]
  },
  {
   "cell_type": "code",
   "execution_count": 101,
   "metadata": {
    "collapsed": false
   },
   "outputs": [
    {
     "data": {
      "text/plain": [
       "'when i find myself in times of trouble, catafalque will come to me, speaking words of wisdom, code in c.'"
      ]
     },
     "execution_count": 101,
     "metadata": {},
     "output_type": "execute_result"
    }
   ],
   "source": [
    "P3"
   ]
  },
  {
   "cell_type": "markdown",
   "metadata": {},
   "source": [
    "# Exercise 4\n",
    "Everything is given. Just have to use elliptic curve functionality of sage."
   ]
  },
  {
   "cell_type": "code",
   "execution_count": 116,
   "metadata": {
    "collapsed": true
   },
   "outputs": [],
   "source": [
    "p4 =  6277101735386680763835789423207666416083908700390324961279\n",
    "a4 =  6277101735386680763835789423207666416083908700390324961276\n",
    "b4 =  2455155546008943817740293915197451784769108058161191238065\n",
    "n4 =  6277101735386680763835789423176059013767194773182842284081\n",
    "Y4 =  (4880704421185356269285731254574038196082295368040177930410, 3252476952228681732222694512787255717022102608249127534923)\n",
    "d4 =  4530374734388221759604160470592849519021726345429538788071\n",
    "P4 =  (602046282375688656758213480587526111916698976636884684818, 174050332293622031404857552280219410364023488927386650641)\n",
    "U4 =  (1355458087547510951659834549953094943930675781843289993571, 5254050291625999318191619702207884939318189720814143813705)\n",
    "V4 =  (2990739714230682290299609801426676841596844439446139795430, 34535613716520569746498074307772112260047564877561522833)"
   ]
  },
  {
   "cell_type": "code",
   "execution_count": 106,
   "metadata": {
    "collapsed": false
   },
   "outputs": [],
   "source": [
    "F = GF(p4)\n",
    "E = EllipticCurve(F, [a4, b4])"
   ]
  },
  {
   "cell_type": "code",
   "execution_count": 121,
   "metadata": {
    "collapsed": false
   },
   "outputs": [],
   "source": [
    "P = E(P4[0], P4[1])\n",
    "Y = E(Y4[0], Y4[1])\n",
    "U = E(U4[0], U4[1])\n",
    "V = E(V4[0], V4[1])"
   ]
  },
  {
   "cell_type": "code",
   "execution_count": 126,
   "metadata": {
    "collapsed": false
   },
   "outputs": [],
   "source": [
    "Up = (U*d4).xy()\n",
    "Up = E(Up[0], Up[1])"
   ]
  },
  {
   "cell_type": "code",
   "execution_count": 135,
   "metadata": {
    "collapsed": false
   },
   "outputs": [
    {
     "data": {
      "text/plain": [
       "(1700383555601412820715483961945651336938783244735256757257,\n",
       " 5292332824455204956095717751076762428742566090633460301859)"
      ]
     },
     "execution_count": 135,
     "metadata": {},
     "output_type": "execute_result"
    }
   ],
   "source": [
    "Qf = (V-Up).xy()\n",
    "Qf"
   ]
  },
  {
   "cell_type": "code",
   "execution_count": 136,
   "metadata": {
    "collapsed": false
   },
   "outputs": [
    {
     "data": {
      "text/plain": [
       "(1700383555601412820715483961945651336938783244735256757257 : 5292332824455204956095717751076762428742566090633460301859 : 1)"
      ]
     },
     "execution_count": 136,
     "metadata": {},
     "output_type": "execute_result"
    }
   ],
   "source": [
    "Q = E(Qf[0], Qf[1])\n",
    "Q"
   ]
  },
  {
   "cell_type": "code",
   "execution_count": null,
   "metadata": {
    "collapsed": true
   },
   "outputs": [],
   "source": [
    "F = GF(29)\n",
    "#Then we create the Elliptic curve E\n",
    "E = EllipticCurve(F, [3,1])\n",
    "print E\n",
    "\n",
    "#To check whether a point (x,y) is on the curve, call E.is_on_curve(x,y)\n",
    "print \"is the point (1,2) on the curve?\",  E.is_on_curve(1,2)\n",
    "print \"is the point (26,20) on the curve?\",  E.is_on_curve(26,20)\n",
    "\n",
    "#To create a point P with coordinates (x,y) on E, simply call E(x,y)\n",
    "P = E(26,20)\n",
    "#To print a point P call P.xy()\n",
    "print \"The coordinates of P are\", P.xy()\n",
    "\n",
    "#To add two points P,Q call + operator\n",
    "Q = E(1,11)\n",
    "print \"Q =\", Q.xy()\n",
    "print \"P+Q =\", (P+Q).xy()\n",
    "\n",
    "#To multiply a point P by a constant l, call l*P\n",
    "print \"5Q =\", (5*Q).xy()\n",
    "\n",
    "#To obtain the point at infinity call E(0)\n",
    "O = E(0)\n",
    "print \"Point at infinity O =\", O #Not possible to call for x,y coordinates!\n",
    "#To check whether a point is the point at infinity, call is_zero() function\n",
    "print \"Is point Q the point at infinity? \", Q.is_zero()\n",
    "print \"Is point O the point at infinity? \", O.is_zero()\n",
    "\n",
    "#Compute the order of the curve. WARNING CAN BE SLOW\n",
    "print \"The order of E is\",E.order()\n",
    "\n",
    "#Given a x coordinate, it's possible to list all points on the curve that have this x coordinate with the function lift_x and the parameter all=True\n",
    "print \"The possible points (in projective form) when x = 26 are\",  E.lift_x(26, all=True)\n",
    "print \"The possible points (in xy() form) when x = 26 are\",  map(lambda u: u.xy(),E.lift_x(26, all=True))"
   ]
  },
  {
   "cell_type": "markdown",
   "metadata": {},
   "source": [
    "# Exercise 5\n",
    "Just draw diagram"
   ]
  },
  {
   "cell_type": "code",
   "execution_count": 9,
   "metadata": {
    "collapsed": false
   },
   "outputs": [],
   "source": [
    "C5 = \"113ac90cf74391150225e9bd696a5378d1304e91b06d007cb0b5eabe7b96d40a\""
   ]
  },
  {
   "cell_type": "code",
   "execution_count": 10,
   "metadata": {
    "collapsed": true
   },
   "outputs": [],
   "source": [
    "cl = C5[:32].decode('hex')\n",
    "cr = C5[32:].decode('hex')"
   ]
  },
  {
   "cell_type": "code",
   "execution_count": 16,
   "metadata": {
    "collapsed": false
   },
   "outputs": [
    {
     "data": {
      "text/plain": [
       "32"
      ]
     },
     "execution_count": 16,
     "metadata": {},
     "output_type": "execute_result"
    }
   ],
   "source": [
    "len(C5[32:])"
   ]
  },
  {
   "cell_type": "code",
   "execution_count": 23,
   "metadata": {
    "collapsed": false
   },
   "outputs": [],
   "source": [
    "import string"
   ]
  },
  {
   "cell_type": "code",
   "execution_count": 22,
   "metadata": {
    "collapsed": false
   },
   "outputs": [
    {
     "name": "stdout",
     "output_type": "stream",
     "text": [
      "I'd like pomaded with my caviar.\n"
     ]
    }
   ],
   "source": [
    "for i in range(256):\n",
    "    h = '{:02x}'.format(i)\n",
    "    h = h*16\n",
    "    k = h.decode('hex')\n",
    "    pl = xor(cl, aes_encrypt(cr, k))\n",
    "    pr = xor(cr, aes_encrypt(pl, k))\n",
    "    if(all(ord(c) < 127 and c in string.printable for c in (pl+pr))):\n",
    "        print(pl + pr)\n",
    "    "
   ]
  }
 ],
 "metadata": {
  "kernelspec": {
   "display_name": "SageMath 7.3",
   "language": "",
   "name": "sagemath"
  },
  "language_info": {
   "codemirror_mode": {
    "name": "ipython",
    "version": 2
   },
   "file_extension": ".py",
   "mimetype": "text/x-python",
   "name": "python",
   "nbconvert_exporter": "python",
   "pygments_lexer": "ipython2",
   "version": "2.7.10"
  }
 },
 "nbformat": 4,
 "nbformat_minor": 0
}
