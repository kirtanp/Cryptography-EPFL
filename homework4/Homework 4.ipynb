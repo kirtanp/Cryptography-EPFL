{
 "cells": [
  {
   "cell_type": "code",
   "execution_count": 1,
   "metadata": {
    "collapsed": true
   },
   "outputs": [],
   "source": [
    "import sys\n",
    "import socket\n",
    "import binascii\n",
    "from Crypto.Util import strxor\n",
    "from Crypto.Cipher import AES"
   ]
  },
  {
   "cell_type": "code",
   "execution_count": 37,
   "metadata": {
    "collapsed": false
   },
   "outputs": [
    {
     "name": "stdout",
     "output_type": "stream",
     "text": [
      "('a =', 11)\n",
      "('b =', 89)\n",
      "a in hexa = 0b\n",
      "a in binary = 01011001\n",
      "c1 = 11\n",
      "c2 = 12\n",
      "c3 = 11001100\n",
      "c4 = 10100110\n",
      "b1 = 0\n",
      "b2 = 1\n",
      "6162636465666768696a6b6c6d6e6f70\n",
      "abcdefghijklmnop\n",
      "c1 XOR c2 = 11\n",
      "b1 XOR b2 = 1\n",
      "c1 AND c2 = 10\n",
      "b1 AND b2 = 0\n",
      "c1 OR c2 = 13\n",
      "b1 OR b2 = 1\n",
      "If we try to print the ciphertext there are many unprintable characters: ��F�\t\u0011��$�1�EP�\n",
      "So we print it in hexadecimal: ea80d546df0911c3ec249631b34550d9\n",
      "the plaintext is: abcdefghijklmnop\n",
      "Elliptic Curve defined by y^2 = x^3 + 3*x + 1 over Finite Field of size 29\n",
      "is the point (1,2) on the curve? False\n",
      "is the point (26,20) on the curve? True\n",
      "The coordinates of P are (26, 20)\n",
      "Q = (1, 11)\n",
      "P+Q = (27, 4)\n",
      "5Q = (20, 12)\n",
      "Point at infinity O = (0 : 1 : 0)\n",
      "Is point Q the point at infinity?  False\n",
      "Is point O the point at infinity?  True\n",
      "The order of E is 30\n",
      "The possible points (in projective form) when x = 26 are [(26 : 9 : 1), (26 : 20 : 1)]\n",
      "The possible points (in xy() form) when x = 26 are [(26, 9), (26, 20)]\n"
     ]
    }
   ],
   "source": [
    "#####\n",
    "#################### Exercises 1, 2, and 5 ##########\n",
    "#####    \n",
    "\n",
    "#Bit operations in sage / python\n",
    "\n",
    "#Convert a string written in hexadecimal into its numerical value\n",
    "a = int(\"0b\",16) #int(\"0x0b\",16) would work as well\n",
    "print (\"a =\",a)\n",
    "\n",
    "#Convert a string written in binary into its numerical value\n",
    "b = int(\"1011001\",2) \n",
    "print (\"b =\",b)\n",
    "\n",
    "#Convert an integer back into a hexadecimal string\n",
    "#The 02 indicates the desired size of the string (for printing leading zeros)\n",
    "#The integer a should be 0 <= a <= 255\n",
    "s = \"{:02x}\".format(a)\n",
    "print \"a in hexa =\",s\n",
    "\n",
    "#Convert an integer back into a binary string\n",
    "#The 08 indicates the desired size of the string (for printing leading zeros)\n",
    "#The integer a should be 0 <= a <= 255\n",
    "s = '{0:08b}'.format(b)\n",
    "print \"a in binary =\",s\n",
    "\n",
    "c1 = int(\"11\",16)\n",
    "c2 = int(\"12\",16)\n",
    "print \"c1 =\", \"{:02x}\".format(c1)\n",
    "print \"c2 =\", \"{:02x}\".format(c2)\n",
    "c3 = int(\"11001100\", 2)\n",
    "c4 = int(\"10100110\", 2)\n",
    "print \"c3 =\", '{0:08b}'.format(c3)\n",
    "print \"c4 =\", '{0:08b}'.format(c4)\n",
    "b1 = int(\"0\", 2)\n",
    "b2 = int(\"1\", 2)\n",
    "print \"b1 =\", '{0:b}'.format(b1)\n",
    "print \"b2 =\", '{0:b}'.format(b2)\n",
    "\n",
    "c3 = \"abcdefghijklmnop\"\n",
    "# Encode ascii as hex string\n",
    "c3_hex = binascii.b2a_hex(c3) # or c3_hex = c3.encode(\"hex\")\n",
    "print c3_hex\n",
    "# Decode from hex string to string\n",
    "c3 = binascii.a2b_hex(c3_hex) # or  c3 = c3_hex.decode(\"hex\")\n",
    "print c3\n",
    "\n",
    "#All the following binary operations work only with Integers\n",
    "#XOR in sage is ^^\n",
    "print \"c1 XOR c2 =\", \"{:02b}\".format(c1 ^^ c2) ##We do the XOR\n",
    "print \"b1 XOR b2 =\", \"{0:b}\".format(b1 ^^ b2) ##We do the XOR\n",
    "\n",
    "#AND is &\n",
    "print \"c1 AND c2 =\", \"{:02x}\".format(c1 & c2) ##We do the AND\n",
    "print \"b1 AND b2 =\", \"{0:b}\".format(b1 & b2) ##We do the XOR\n",
    "\n",
    "#OR is |\n",
    "print \"c1 OR c2 =\", \"{:02x}\".format(c1 | c2) ##We do the OR  \n",
    "print \"b1 OR b2 =\", \"{0:b}\".format(b1 | b2) ##We do the XOR\n",
    "\n",
    "#XOR of strings, AES and base64\n",
    "\n",
    "\n",
    "\n",
    "\"\"\"\n",
    "performs the xor of string a and b (every character is treated as an 8-bit value)\n",
    "\"\"\"\n",
    "def xor(a,b):\n",
    "    return strxor.strxor(a,b)\n",
    "\n",
    "    \n",
    "#AES encryption of message <m> with ECB mode under key <key>\n",
    "def aes_encrypt(message, key):\n",
    "    obj = AES.new(key, AES.MODE_ECB,'')\n",
    "    return obj.encrypt(message)\n",
    "    \n",
    "#AES decryption of message <m> with ECB mode under key <key>\n",
    "def aes_decrypt(message, key):\n",
    "    obj = AES.new(key, AES.MODE_ECB,'')\n",
    "    return obj.decrypt(message)\n",
    "\n",
    "message = \"abcdefghijklmnop\"\n",
    "key = \"aabbaabbaabbaabb\"\n",
    "ciphertext = aes_encrypt(message, key)\n",
    "\n",
    "hex_ciphertext = ciphertext.encode(\"hex\")\n",
    "\n",
    "print \"If we try to print the ciphertext there are many unprintable characters:\", ciphertext\n",
    "\n",
    "print \"So we print it in hexadecimal:\", hex_ciphertext\n",
    "\n",
    "#We get back the ciphertext \n",
    "ciphertext = hex_ciphertext.decode(\"hex\")\n",
    "\n",
    "plaintext = aes_decrypt(ciphertext, key)\n",
    "print \"the plaintext is:\", plaintext\n",
    "\n",
    "\n",
    "####\n",
    "####Exercises 1 and 3 #########################\n",
    "####\n",
    "\"\"\"\n",
    "Connection to a server <server_name> with port <port> and send message <message> (has to end with '\\n')\n",
    "\"\"\"\n",
    "\n",
    "\n",
    "\n",
    "def connect_server(server_name, port, message):\n",
    "    server = (server_name, int(port)) #calling int is required when using Sage\n",
    "    s = socket.create_connection(server)\n",
    "    s.send(message)\n",
    "    response=''\n",
    "    while True: #data might come in several packets, need to wait for all of it\n",
    "        data = s.recv(9000)\n",
    "        if not data: break\n",
    "        response = response+data\n",
    "    s.close()\n",
    "    return response\n",
    "\n",
    "\n",
    "####\n",
    "#### Exercise 4 ######################\n",
    "####\n",
    "\n",
    "#Elliptic curves in Sage\n",
    "#Creation of an elliptic curve with equation y^2 = x^3 + ax + b over a finite field F = GF(p)\n",
    "#Command is EllipticCurve(F,[a,b])\n",
    "\n",
    "#As an example we create the Elliptic curve with equation y^2 = x^3 + 3x + 1 over GF(29)\n",
    "\n",
    "#First we create the finite field\n",
    "F = GF(29)\n",
    "#Then we create the Elliptic curve E\n",
    "E = EllipticCurve(F, [3,1])\n",
    "print E\n",
    "\n",
    "#To check whether a point (x,y) is on the curve, call E.is_on_curve(x,y)\n",
    "print \"is the point (1,2) on the curve?\",  E.is_on_curve(1,2)\n",
    "print \"is the point (26,20) on the curve?\",  E.is_on_curve(26,20)\n",
    "\n",
    "#To create a point P with coordinates (x,y) on E, simply call E(x,y)\n",
    "P = E(26,20)\n",
    "#To print a point P call P.xy()\n",
    "print \"The coordinates of P are\", P.xy()\n",
    "\n",
    "#To add two points P,Q call + operator\n",
    "Q = E(1,11)\n",
    "print \"Q =\", Q.xy()\n",
    "print \"P+Q =\", (P+Q).xy()\n",
    "\n",
    "#To multiply a point P by a constant l, call l*P\n",
    "print \"5Q =\", (5*Q).xy()\n",
    "\n",
    "#To obtain the point at infinity call E(0)\n",
    "O = E(0)\n",
    "print \"Point at infinity O =\", O #Not possible to call for x,y coordinates!\n",
    "#To check whether a point is the point at infinity, call is_zero() function\n",
    "print \"Is point Q the point at infinity? \", Q.is_zero()\n",
    "print \"Is point O the point at infinity? \", O.is_zero()\n",
    "\n",
    "#Compute the order of the curve. WARNING CAN BE SLOW\n",
    "print \"The order of E is\",E.order()\n",
    "\n",
    "#Given a x coordinate, it's possible to list all points on the curve that have this x coordinate with the function lift_x and the parameter all=True\n",
    "print \"The possible points (in projective form) when x = 26 are\",  E.lift_x(26, all=True)\n",
    "print \"The possible points (in xy() form) when x = 26 are\",  map(lambda u: u.xy(),E.lift_x(26, all=True))\n",
    "\n"
   ]
  },
  {
   "cell_type": "markdown",
   "metadata": {},
   "source": [
    "# Exercise 1\n",
    "We can use the first 120 bits of IV_CFB as IV_CTR and one of the T_i for CTR will be T_0 of CFB. So we have M_0. Continue in tis way to get all M_i for CFB."
   ]
  },
  {
   "cell_type": "code",
   "execution_count": 4,
   "metadata": {
    "collapsed": true
   },
   "outputs": [],
   "source": [
    "C1='135f75da86be0d8e74d481f793c46dc4b14dc7ec755525cb13e48d8e168c88b25ac2e6cf08d7fa11ab9fd01e2d717a1b1ec619767b31a9f0772ef4ff15506576cd86f1aceea02549610ae860b2d220834e51df8476f607bbdd9fbb3889e1e9a9fc62266e2a226ac106660e3a845987b524d50a1e7e7729788a28952509329f185080432c0492b4b929fb65df12fec6732e5be92cb8452e4b21046558c9a1a2452c98118b91ba8fc38764ea70752899750f6ad61210ef41f85d7ec1a6e390828047f82168755f57674504ed0576fcb0c0eecbb5ffe8cfb2d8f06938cba53f548ba791cf73c8b2634a712ea704a9f10e4d7df8fe3c605fb2e194f32e7540beb9737593f031686b7c251d012507d2da4e37976a3f275763672b84299d5d0c2175e1afd0bda3c125fc01c3614f3cb7831ffbf73f3bdabb571926944ded67ed2f31a26d2c8fa91e86271ebb44d2c0cdfccaa7c7afc5d913a003f3c0dfcc709729fd491d2e29269a0c557ac273bd4fb71def190502c91b7ec970d034591f3e7fd6707191328df18d4bb16dbd0c41ca94c5659232cb3e3fff3123d81d45651e'"
   ]
  },
  {
   "cell_type": "code",
   "execution_count": 2,
   "metadata": {
    "collapsed": false
   },
   "outputs": [],
   "source": [
    "def connect_server(server_name, port, message):\n",
    "    server = (server_name, int(port)) #calling int is required when using Sage\n",
    "    s = socket.create_connection(server)\n",
    "    s.send(message)\n",
    "    response=''\n",
    "    while True: #data might come in several packets, need to wait for all of it\n",
    "        data = s.recv(9000)\n",
    "        if not data: break\n",
    "        response = response+data\n",
    "    s.close()\n",
    "    return response\n",
    "\n",
    "def chunks(string, length):\n",
    "    return list(string[0+i:length+i] for i in range(0, len(string), length))"
   ]
  },
  {
   "cell_type": "code",
   "execution_count": 6,
   "metadata": {
    "collapsed": false
   },
   "outputs": [
    {
     "data": {
      "text/plain": [
       "'32cb3e3fff3123d81d45651e'"
      ]
     },
     "execution_count": 6,
     "metadata": {},
     "output_type": "execute_result"
    }
   ],
   "source": [
    "cfb = chunks(C1, 32)\n",
    "cfb[-1]"
   ]
  },
  {
   "cell_type": "code",
   "execution_count": 29,
   "metadata": {
    "collapsed": false
   },
   "outputs": [],
   "source": [
    "cfb = chunks(C1, 32)\n",
    "sciper = '253734'\n",
    "m = '0'*(32*256)\n",
    "server = 'lasecpc28.epfl.ch'\n",
    "port = 6666\n",
    "T = []\n",
    "M = []"
   ]
  },
  {
   "cell_type": "code",
   "execution_count": 9,
   "metadata": {
    "collapsed": false
   },
   "outputs": [
    {
     "data": {
      "text/plain": [
       "24"
      ]
     },
     "execution_count": 9,
     "metadata": {},
     "output_type": "execute_result"
    }
   ],
   "source": [
    "len(cfb[-1])"
   ]
  },
  {
   "cell_type": "code",
   "execution_count": 31,
   "metadata": {
    "collapsed": false
   },
   "outputs": [],
   "source": [
    "for iv in cfb[:-1]:\n",
    "    iv_ctr = iv[:30]\n",
    "    message = sciper + ' ' + iv_ctr + ' ' + m + '\\n'\n",
    "    ctr = chunks( connect_server( server, port, message).rstrip(), 32 )\n",
    "    i = int(str(iv[30:32]), 16)\n",
    "    T.append(ctr[i])"
   ]
  },
  {
   "cell_type": "code",
   "execution_count": 32,
   "metadata": {
    "collapsed": false
   },
   "outputs": [],
   "source": [
    "for i in range(1, len(cfb)):\n",
    "    c = cfb[i]\n",
    "    t = T[i-1]\n",
    "    if(i < len(cfb)-1):\n",
    "        temp = int(c, 16) ^^ int(t, 16)\n",
    "        m = binascii.a2b_hex(\"{:32x}\".format(temp))\n",
    "    else:\n",
    "        temp = int(c, 16) ^^ int(t[:24], 16)\n",
    "        m = binascii.a2b_hex(\"{:24x}\".format(temp))\n",
    "        \n",
    "    M.append(m)"
   ]
  },
  {
   "cell_type": "code",
   "execution_count": 33,
   "metadata": {
    "collapsed": false
   },
   "outputs": [
    {
     "data": {
      "text/plain": [
       "'Three presupposes for the Elven-kings under the sky, Seven for the Dwarf-lords in their halls of stone, Nine for Mortal Men doomed to die, One for the Dark Lord on his dark throne. In the Land of Mordor where the Shadows lie. One presuppose to rule them all, One presuppose to find them, One presuppose to bring them all and in the darkness bind them. In the Land of Mordor where the Shadows lie.'"
      ]
     },
     "execution_count": 33,
     "metadata": {},
     "output_type": "execute_result"
    }
   ],
   "source": [
    "''.join(M)"
   ]
  },
  {
   "cell_type": "markdown",
   "metadata": {},
   "source": [
    "# Exercise 2\n",
    "Backtrace and Invert AES to get K. Then implemet forward implementation."
   ]
  },
  {
   "cell_type": "code",
   "execution_count": 208,
   "metadata": {
    "collapsed": true
   },
   "outputs": [],
   "source": [
    "IV21 = \"81cfb4b401265b208770983a7413c27b\"\n",
    "P21 = \"otherwise you may just spoil eve\"\n",
    "C21 = \"ed33655df363f972439210c6eb76bb56ac62459b100f042c115100e3e749f8ca\"\n",
    "IV22 = \"a8de1f925258b75833f29720b121b854\"\n",
    "C22 = \"e7b63ff33c3c97375d97b74dde53dd74d90e56fe06bd33df3fdc03fb71b4d31f1f73bfb612888e846f5ac150b51421525ebe1b35c68c5cfab6f6b17ad71dfaee8409eb1608e4f35898ac0186d9b1cda73a98f0a4d02dc32f36f79c4d42eb69a64f6e55efab19cdd9a396ee51186367f3bdad478447351c2fe147737aa703b7ceb6309b58f994d09ef7f8\""
   ]
  },
  {
   "cell_type": "code",
   "execution_count": 209,
   "metadata": {
    "collapsed": false
   },
   "outputs": [],
   "source": [
    "binKey1 = '{0:256b}'.format(int(C21, 16) ^^ int(binascii.b2a_hex(P21), 16))\n",
    "binIV1 = '{0:128b}'.format(int(IV21, 16))"
   ]
  },
  {
   "cell_type": "code",
   "execution_count": 210,
   "metadata": {
    "collapsed": false
   },
   "outputs": [],
   "source": [
    "for i in range(2000):\n",
    "    t = '{0:b}'.format(int(binKey1[1], 2) ^^ int(binKey1[4], 2) ^^ int(binKey1[9], 2) ^^ int(binKey1[255], 2))\n",
    "    binKey1 = t + binKey1\n",
    "    if(binKey1[:128] == binIV1):\n",
    "        break"
   ]
  },
  {
   "cell_type": "code",
   "execution_count": 211,
   "metadata": {
    "collapsed": false
   },
   "outputs": [],
   "source": [
    "Kp1 = '{:32x}'.format(int(binKey1[128:256], 2))"
   ]
  },
  {
   "cell_type": "code",
   "execution_count": 212,
   "metadata": {
    "collapsed": false
   },
   "outputs": [],
   "source": [
    "K = aes_decrypt(Kp1.decode('hex'), IV21.decode('hex'))"
   ]
  },
  {
   "cell_type": "code",
   "execution_count": 213,
   "metadata": {
    "collapsed": false
   },
   "outputs": [],
   "source": [
    "Kp2 = aes_encrypt(K, IV22.decode('hex'))\n",
    "binKey2 = '{0:256b}'.format(int(IV22 + binascii.b2a_hex(Kp2), 16))"
   ]
  },
  {
   "cell_type": "code",
   "execution_count": 214,
   "metadata": {
    "collapsed": false
   },
   "outputs": [],
   "source": [
    "for i in range(len(C22)*4-256):\n",
    "    t = '{0:b}'.format(int(binKey2[0+i], 2) ^^ int(binKey2[2+i], 2) ^^ int(binKey2[5+i], 2) ^^ int(binKey2[10+i], 2))\n",
    "    binKey2 = binKey2 + t"
   ]
  },
  {
   "cell_type": "code",
   "execution_count": 215,
   "metadata": {
    "collapsed": false
   },
   "outputs": [],
   "source": [
    "t1 = int(binKey2, 2)\n",
    "t2 = int( C22[:], 16 )\n",
    "test = t1^^t2"
   ]
  },
  {
   "cell_type": "code",
   "execution_count": 216,
   "metadata": {
    "collapsed": false
   },
   "outputs": [
    {
     "data": {
      "text/plain": [
       "\"Oh and one more thing I forgot: when you'll be trying our Enigma machine, try to encrypt the word maneuver and send the result back to me.\""
      ]
     },
     "execution_count": 216,
     "metadata": {},
     "output_type": "execute_result"
    }
   ],
   "source": [
    "binascii.a2b_hex( '{:x}'.format(test) )"
   ]
  },
  {
   "cell_type": "markdown",
   "metadata": {},
   "source": [
    "# Exercise 3\n",
    "Given first i places, mapping for i+1 is fixed. IV affects only the first one. Extended key at ith place seems to depend on i-1 th position of message\n"
   ]
  },
  {
   "cell_type": "code",
   "execution_count": 7,
   "metadata": {
    "collapsed": true
   },
   "outputs": [],
   "source": [
    "C3 = \"j:xtgqmvsaqzq.deqtf cjoy,dxwwdhjeodjxzfd.hgcgtsfxysgkhfhkdmghusexuxfsbcoherdbkfqbqoqaeho,qelokrfcjkjmehytf\""
   ]
  },
  {
   "cell_type": "markdown",
   "metadata": {},
   "source": [
    "# Exercise 4\n",
    "Everything is given. Just have to use elliptic curve functionality of sage."
   ]
  },
  {
   "cell_type": "code",
   "execution_count": 11,
   "metadata": {
    "collapsed": true
   },
   "outputs": [],
   "source": [
    "p4 =  6277101735386680763835789423207666416083908700390324961279\n",
    "a4 =  6277101735386680763835789423207666416083908700390324961276\n",
    "b4 =  2455155546008943817740293915197451784769108058161191238065\n",
    "n4 =  6277101735386680763835789423176059013767194773182842284081\n",
    "Y4 =  (4880704421185356269285731254574038196082295368040177930410, 3252476952228681732222694512787255717022102608249127534923)\n",
    "d4 =  4530374734388221759604160470592849519021726345429538788071\n",
    "P =  (602046282375688656758213480587526111916698976636884684818, 174050332293622031404857552280219410364023488927386650641)\n",
    "U4 =  (1355458087547510951659834549953094943930675781843289993571, 5254050291625999318191619702207884939318189720814143813705)\n",
    "V4 =  (2990739714230682290299609801426676841596844439446139795430, 34535613716520569746498074307772112260047564877561522833)"
   ]
  },
  {
   "cell_type": "markdown",
   "metadata": {},
   "source": [
    "# Exercise 5\n",
    "Just draw diagram"
   ]
  },
  {
   "cell_type": "code",
   "execution_count": 12,
   "metadata": {
    "collapsed": true
   },
   "outputs": [],
   "source": [
    "C5 = \"113ac90cf74391150225e9bd696a5378d1304e91b06d007cb0b5eabe7b96d40a\""
   ]
  },
  {
   "cell_type": "code",
   "execution_count": null,
   "metadata": {
    "collapsed": true
   },
   "outputs": [],
   "source": []
  }
 ],
 "metadata": {
  "kernelspec": {
   "display_name": "SageMath 7.3",
   "language": "",
   "name": "sagemath"
  },
  "language_info": {
   "codemirror_mode": {
    "name": "ipython",
    "version": 2
   },
   "file_extension": ".py",
   "mimetype": "text/x-python",
   "name": "python",
   "nbconvert_exporter": "python",
   "pygments_lexer": "ipython2",
   "version": "2.7.10"
  }
 },
 "nbformat": 4,
 "nbformat_minor": 0
}
