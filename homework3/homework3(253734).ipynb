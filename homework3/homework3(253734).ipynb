{
 "cells": [
  {
   "cell_type": "markdown",
   "metadata": {},
   "source": [
    "# Exercise 1"
   ]
  },
  {
   "cell_type": "code",
   "execution_count": 1,
   "metadata": {
    "collapsed": true
   },
   "outputs": [],
   "source": [
    "n1 = 3964495826386375195429273071036261739811173571628487938383781116241904710889886249149913046860555692029177069362988887489307758625735001250620675399410908747197683958195759931322907351682309463448544453920279983954403649891645684570440087142956707530195473089089883809379176685889019957656876963218892777334124499253844308033870622313447264198672859177258065152355329192009399657849282466297653911848423002486842761794955348474726310635933175527661759\n",
    "p1 = 998046880896219988960483921306940560273840093547027652026495188291951756861500210901002066661761591197264992382558265163719617187291654237719529337457\n",
    "q1 = 1901800091309381425889749427405038780195935096889584930979007220933950553326922614964582832389777993123559650055564604957998804934147362173876828706621\n",
    "r1 = 2088681207835191279083847420139594209718229013542791604944033660733595296378063082735422345058631058648701940674352112214717816744082879493778039529947\n",
    "y1 = 849860266632480313180368064874063306168831331376476738093051717795698919063467430310657958690467869628955872839054371286287052022067762997018974539810668579347339271893474609066316390473875945151841936609867900969836704909610779325964012219411695834217610482495414858047065978157984085752930026755024188489155635066080024814225100031724307892902936784023713811204142742235789456620538919542708848313535403643091166600096641789096940272747096857947168\n"
   ]
  },
  {
   "cell_type": "code",
   "execution_count": 33,
   "metadata": {
    "collapsed": true
   },
   "outputs": [],
   "source": [
    "from sage.rings.finite_rings.integer_mod import square_root_mod_prime\n",
    "#Getting square roots of y1 modulo p1\n",
    "Rp = Integers(p1)\n",
    "yp = Rp(y1)\n",
    "rp = int_ring.square_root_mod_prime(yp)\n",
    "rootp = [rp, -rp]"
   ]
  },
  {
   "cell_type": "code",
   "execution_count": 38,
   "metadata": {
    "collapsed": false
   },
   "outputs": [],
   "source": [
    "#Getting square roots of y1 modulo q1\n",
    "Rq = Integers(q1)\n",
    "yq = Rq(y1)\n",
    "rq = int_ring.square_root_mod_prime(yq)\n",
    "rootq = [rq, -rq]"
   ]
  },
  {
   "cell_type": "code",
   "execution_count": 49,
   "metadata": {
    "collapsed": false
   },
   "outputs": [],
   "source": [
    "#Getting square roots of y1 modulo r1\n",
    "Rr = Integers(r1)\n",
    "yr = Rr(y1)\n",
    "rr = int_ring.square_root_mod_prime(yr)\n",
    "rootr = [rr, -rr]"
   ]
  },
  {
   "cell_type": "code",
   "execution_count": 67,
   "metadata": {
    "collapsed": false
   },
   "outputs": [
    {
     "name": "stdout",
     "output_type": "stream",
     "text": [
      "3498461558927748703629509723365241659557663895663087295519351565524435810828824845419599043254918927150044340927498395358932642570220633639348708048367684151904636233177701725447246189165081344079009869709019419666680030428085030427829641374607267333993719342155193888301844750519945424345456274054641551672141203858320678892663713791884352554575046241749522872363237910077215204189561408631984501291203837938325337681005552150102391262277624298816760\n"
     ]
    }
   ],
   "source": [
    "modulo = [int(p1), int(q1), int(r1)]\n",
    "roots = []\n",
    "for p in rootp:\n",
    "    for q in rootq:\n",
    "        for r in rootr:\n",
    "            numbers = [int(p), int(q), int(r)]\n",
    "            r = CRT_list(numbers, modulo)\n",
    "            roots.append(r)\n",
    "\n",
    "roots.sort()\n",
    "ans = roots[7]\n",
    "print(ans)"
   ]
  },
  {
   "cell_type": "code",
   "execution_count": 68,
   "metadata": {
    "collapsed": false
   },
   "outputs": [
    {
     "data": {
      "text/plain": [
       "True"
      ]
     },
     "execution_count": 68,
     "metadata": {},
     "output_type": "execute_result"
    }
   ],
   "source": [
    "mod(ans*ans, n1) == y1"
   ]
  },
  {
   "cell_type": "code",
   "execution_count": 64,
   "metadata": {
    "collapsed": false
   },
   "outputs": [],
   "source": []
  }
 ],
 "metadata": {
  "kernelspec": {
   "display_name": "SageMath 7.3",
   "language": "",
   "name": "sagemath"
  },
  "language_info": {
   "codemirror_mode": {
    "name": "ipython",
    "version": 2
   },
   "file_extension": ".py",
   "mimetype": "text/x-python",
   "name": "python",
   "nbconvert_exporter": "python",
   "pygments_lexer": "ipython2",
   "version": "2.7.10"
  }
 },
 "nbformat": 4,
 "nbformat_minor": 0
}
